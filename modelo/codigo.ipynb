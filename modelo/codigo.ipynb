{
 "cells": [
  {
   "cell_type": "code",
   "execution_count": 1,
   "metadata": {},
   "outputs": [],
   "source": [
    "import pandas as pd\n",
    "import numpy as np\n",
    "from matplotlib import pyplot as plt\n",
    "%matplotlib inline\n",
    "import matplotlib \n",
    "import statistics as stat\n",
    "import matplotlib.pyplot as plt\n",
    "from scipy import stats\n",
    "from scipy.stats import norm\n",
    "matplotlib.rcParams[\"figure.figsize\"] = (20,10)\n",
    "import seaborn as sb"
   ]
  },
  {
   "cell_type": "code",
   "execution_count": 3,
   "metadata": {},
   "outputs": [],
   "source": [
    "df = pd.read_csv(\"D:/GITHUB/urbania_data.csv\")"
   ]
  },
  {
   "cell_type": "code",
   "execution_count": 4,
   "metadata": {},
   "outputs": [
    {
     "data": {
      "text/html": [
       "<div>\n",
       "<style scoped>\n",
       "    .dataframe tbody tr th:only-of-type {\n",
       "        vertical-align: middle;\n",
       "    }\n",
       "\n",
       "    .dataframe tbody tr th {\n",
       "        vertical-align: top;\n",
       "    }\n",
       "\n",
       "    .dataframe thead th {\n",
       "        text-align: right;\n",
       "    }\n",
       "</style>\n",
       "<table border=\"1\" class=\"dataframe\">\n",
       "  <thead>\n",
       "    <tr style=\"text-align: right;\">\n",
       "      <th></th>\n",
       "      <th>Unnamed: 0</th>\n",
       "      <th>Antiguedad</th>\n",
       "      <th>Anunciante</th>\n",
       "      <th>Balneario</th>\n",
       "      <th>NroBanios</th>\n",
       "      <th>Nro_pisos</th>\n",
       "      <th>Cocheras</th>\n",
       "      <th>Descripcion</th>\n",
       "      <th>Direccion</th>\n",
       "      <th>Dormitorios</th>\n",
       "      <th>...</th>\n",
       "      <th>'Aire acondicionado'</th>\n",
       "      <th>'Amoblado'</th>\n",
       "      <th>'Sauna'</th>\n",
       "      <th>'Calefaccion'</th>\n",
       "      <th>'Equipado'</th>\n",
       "      <th>'Terma'</th>\n",
       "      <th>'Portero electrico'</th>\n",
       "      <th>'Cocina con reposteros'</th>\n",
       "      <th>Distrito</th>\n",
       "      <th>Provincia</th>\n",
       "    </tr>\n",
       "  </thead>\n",
       "  <tbody>\n",
       "    <tr>\n",
       "      <th>0</th>\n",
       "      <td>0</td>\n",
       "      <td>5</td>\n",
       "      <td>Valentinoinmobiliaria</td>\n",
       "      <td>Nulo</td>\n",
       "      <td>4</td>\n",
       "      <td>2</td>\n",
       "      <td>3</td>\n",
       "      <td>excelente opcion para vivir en una de las mej...</td>\n",
       "      <td>Malecon Monte Bello 5 La Molina, La Planicie, ...</td>\n",
       "      <td>3</td>\n",
       "      <td>...</td>\n",
       "      <td>0</td>\n",
       "      <td>0</td>\n",
       "      <td>0</td>\n",
       "      <td>0</td>\n",
       "      <td>0</td>\n",
       "      <td>0</td>\n",
       "      <td>0</td>\n",
       "      <td>0</td>\n",
       "      <td>LaMolina</td>\n",
       "      <td>Lima</td>\n",
       "    </tr>\n",
       "    <tr>\n",
       "      <th>1</th>\n",
       "      <td>1</td>\n",
       "      <td>5</td>\n",
       "      <td>No disponible</td>\n",
       "      <td>Nulo</td>\n",
       "      <td>5</td>\n",
       "      <td>3</td>\n",
       "      <td>1</td>\n",
       "      <td>hermosa casa a espalda de futura avenida prol...</td>\n",
       "      <td>Mz. O2 Lt. 03 Urb. San Antonio De Carapongo 2 ...</td>\n",
       "      <td>5+</td>\n",
       "      <td>...</td>\n",
       "      <td>0</td>\n",
       "      <td>0</td>\n",
       "      <td>0</td>\n",
       "      <td>0</td>\n",
       "      <td>0</td>\n",
       "      <td>0</td>\n",
       "      <td>0</td>\n",
       "      <td>0</td>\n",
       "      <td>Lurigancho</td>\n",
       "      <td>Lima</td>\n",
       "    </tr>\n",
       "    <tr>\n",
       "      <th>2</th>\n",
       "      <td>2</td>\n",
       "      <td>3</td>\n",
       "      <td>No disponible</td>\n",
       "      <td>Nulo</td>\n",
       "      <td>5</td>\n",
       "      <td>3</td>\n",
       "      <td>4</td>\n",
       "      <td>casa de estreno acabados de primera. calle ce...</td>\n",
       "      <td>El Pinar 120 , La Planicie 1era Etapa La Molin...</td>\n",
       "      <td>4</td>\n",
       "      <td>...</td>\n",
       "      <td>1</td>\n",
       "      <td>1</td>\n",
       "      <td>1</td>\n",
       "      <td>0</td>\n",
       "      <td>1</td>\n",
       "      <td>1</td>\n",
       "      <td>1</td>\n",
       "      <td>1</td>\n",
       "      <td>LaMolina</td>\n",
       "      <td>Lima</td>\n",
       "    </tr>\n",
       "    <tr>\n",
       "      <th>3</th>\n",
       "      <td>5</td>\n",
       "      <td>1</td>\n",
       "      <td>No disponible</td>\n",
       "      <td>Sol Y Mar</td>\n",
       "      <td>5</td>\n",
       "      <td>2</td>\n",
       "      <td>3</td>\n",
       "      <td>linda casa en condominio con piscina club hou...</td>\n",
       "      <td>Km 98.5 De La Panamericana Sur Asia, Sol Y Mar...</td>\n",
       "      <td>4</td>\n",
       "      <td>...</td>\n",
       "      <td>0</td>\n",
       "      <td>1</td>\n",
       "      <td>0</td>\n",
       "      <td>0</td>\n",
       "      <td>0</td>\n",
       "      <td>0</td>\n",
       "      <td>0</td>\n",
       "      <td>1</td>\n",
       "      <td>Asia</td>\n",
       "      <td>Lima</td>\n",
       "    </tr>\n",
       "    <tr>\n",
       "      <th>4</th>\n",
       "      <td>6</td>\n",
       "      <td>4</td>\n",
       "      <td>No disponible</td>\n",
       "      <td>Nulo</td>\n",
       "      <td>4</td>\n",
       "      <td>2</td>\n",
       "      <td>2</td>\n",
       "      <td>monterrico 2 casas en 1 ( casa bajos 4 dormit...</td>\n",
       "      <td>Mariano De Rivera Y Ustariz #215 Surco, Huerto...</td>\n",
       "      <td>5+</td>\n",
       "      <td>...</td>\n",
       "      <td>0</td>\n",
       "      <td>0</td>\n",
       "      <td>0</td>\n",
       "      <td>0</td>\n",
       "      <td>0</td>\n",
       "      <td>1</td>\n",
       "      <td>0</td>\n",
       "      <td>1</td>\n",
       "      <td>SantiagoDeSurco</td>\n",
       "      <td>Lima</td>\n",
       "    </tr>\n",
       "  </tbody>\n",
       "</table>\n",
       "<p>5 rows × 95 columns</p>\n",
       "</div>"
      ],
      "text/plain": [
       "   Unnamed: 0  Antiguedad              Anunciante  Balneario  NroBanios  \\\n",
       "0           0           5  Valentinoinmobiliaria        Nulo          4   \n",
       "1           1           5           No disponible       Nulo          5   \n",
       "2           2           3           No disponible       Nulo          5   \n",
       "3           5           1           No disponible  Sol Y Mar          5   \n",
       "4           6           4           No disponible       Nulo          4   \n",
       "\n",
       "   Nro_pisos  Cocheras                                        Descripcion  \\\n",
       "0          2         3   excelente opcion para vivir en una de las mej...   \n",
       "1          3         1   hermosa casa a espalda de futura avenida prol...   \n",
       "2          3         4   casa de estreno acabados de primera. calle ce...   \n",
       "3          2         3   linda casa en condominio con piscina club hou...   \n",
       "4          2         2   monterrico 2 casas en 1 ( casa bajos 4 dormit...   \n",
       "\n",
       "                                           Direccion Dormitorios  ...  \\\n",
       "0  Malecon Monte Bello 5 La Molina, La Planicie, ...           3  ...   \n",
       "1  Mz. O2 Lt. 03 Urb. San Antonio De Carapongo 2 ...          5+  ...   \n",
       "2  El Pinar 120 , La Planicie 1era Etapa La Molin...           4  ...   \n",
       "3  Km 98.5 De La Panamericana Sur Asia, Sol Y Mar...           4  ...   \n",
       "4  Mariano De Rivera Y Ustariz #215 Surco, Huerto...          5+  ...   \n",
       "\n",
       "  'Aire acondicionado' 'Amoblado' 'Sauna' 'Calefaccion'  'Equipado' 'Terma'  \\\n",
       "0                    0          0       0             0           0       0   \n",
       "1                    0          0       0             0           0       0   \n",
       "2                    1          1       1             0           1       1   \n",
       "3                    0          1       0             0           0       0   \n",
       "4                    0          0       0             0           0       1   \n",
       "\n",
       "  'Portero electrico' 'Cocina con reposteros'         Distrito Provincia  \n",
       "0                   0                       0         LaMolina      Lima  \n",
       "1                   0                       0       Lurigancho      Lima  \n",
       "2                   1                       1         LaMolina      Lima  \n",
       "3                   0                       1             Asia      Lima  \n",
       "4                   0                       1  SantiagoDeSurco      Lima  \n",
       "\n",
       "[5 rows x 95 columns]"
      ]
     },
     "execution_count": 4,
     "metadata": {},
     "output_type": "execute_result"
    }
   ],
   "source": [
    "df = df.drop([\"Unnamed: 0.1\"],axis=1) \n",
    "df.head(5)"
   ]
  },
  {
   "cell_type": "code",
   "execution_count": 4,
   "metadata": {},
   "outputs": [
    {
     "data": {
      "text/plain": [
       "(7663, 95)"
      ]
     },
     "execution_count": 4,
     "metadata": {},
     "output_type": "execute_result"
    }
   ],
   "source": [
    "df.shape"
   ]
  },
  {
   "cell_type": "code",
   "execution_count": 5,
   "metadata": {},
   "outputs": [
    {
     "data": {
      "text/plain": [
       "Index(['Unnamed: 0', 'Antiguedad', 'Anunciante', 'Balneario', 'NroBanios',\n",
       "       'Nro_pisos', 'Cocheras', 'Descripcion', 'Direccion', 'Dormitorios',\n",
       "       'Estado de Inmueble', 'Fecha_pub', 'Luminosidad', 'Mascotas', 'Precio',\n",
       "       'Tipo', 'TipoCochera', 'Ubicacion', 'Uso_comercial', 'Uso_profesional',\n",
       "       'latitud', 'longitud', 'Area_constr', 'Area_total', 'Area_constr_m2',\n",
       "       'Area_total_m2', 'match', ''Cuarto de servicio'', ''Deposito'',\n",
       "       ''Terraza'', ''Kitchenette'', ''Sala de estar'', ''Sotano'', ''Patio'',\n",
       "       ''anx81tico'', ''Comedor diario'', ''Comedor'', ''Banio de servicio'',\n",
       "       ''Jardanxadn Interno'', ''Walking Closet'', ''Escritorio'', ''Cocina'',\n",
       "       ''Banio independiente'', ''Lavanderanxada'', ''Balcon'', ''Sala'',\n",
       "       ''Closet'', ''Banio de visitas'', ''Agua'', ''Guardiananxada'',\n",
       "       ''Internet'', ''Luz'', ''Cable'', ''Servicio de Limpieza'',\n",
       "       ''Conexion a gas'', ''Sistema de seguridad'', ''Telefono'',\n",
       "       ''Areadeportiva'', ''Piscina'', ''Solarium'', ''Sala de internet'',\n",
       "       ''Sala de cine'', ''Jardanxadn'', ''Parque interno'', ''Guarderanxada'',\n",
       "       ''anx81reas verdes'', ''Club House'', ''Hall de ingreso'',\n",
       "       ''Areade BBQ'', ''Gimnasio'', ''Areade sauna'', ''Juegos para ninios'',\n",
       "       ''Ingreso independiente'', ''Colegios cercanos'', ''Cerca al mar'',\n",
       "       ''Centros comerciales cercanos'', ''Parques cercanos'',\n",
       "       ''Acceso personas discapacidad'', ''Frente al mar'', ''Desagaue'',\n",
       "       ''Jacuzzi'', ''Chimenea'', ''Intercomunicador'', ''Cerco Electrico'',\n",
       "       ''Parrilla'', ''Aire acondicionado'', ''Amoblado'', ''Sauna'',\n",
       "       ''Calefaccion'', ''Equipado'', ''Terma'', ''Portero electrico'',\n",
       "       ''Cocina con reposteros'', 'Distrito', 'Provincia'],\n",
       "      dtype='object')"
      ]
     },
     "execution_count": 5,
     "metadata": {},
     "output_type": "execute_result"
    }
   ],
   "source": [
    "df.columns"
   ]
  },
  {
   "cell_type": "code",
   "execution_count": 6,
   "metadata": {},
   "outputs": [
    {
     "data": {
      "text/plain": [
       "array(['Lima', 'LaLibertad', 'Loreto', 'Callao', 'Lambayeque', 'Piura',\n",
       "       'Cusco', 'Junin', 'Ica', 'Ancash', 'Cajamarca', 'Tacna',\n",
       "       'Arequipa', 'Ucayali', 'Pasco', 'Ayacucho', 'Apurimac', 'Tumbes',\n",
       "       'Huanuco', 'SanMartin', 'MadreDeDios', 'Puno'], dtype=object)"
      ]
     },
     "execution_count": 6,
     "metadata": {},
     "output_type": "execute_result"
    }
   ],
   "source": [
    "df.Provincia.unique()"
   ]
  },
  {
   "cell_type": "code",
   "execution_count": 7,
   "metadata": {},
   "outputs": [
    {
     "data": {
      "text/plain": [
       "Lima           7129\n",
       "Callao          119\n",
       "Lambayeque       84\n",
       "Piura            68\n",
       "Ica              59\n",
       "LaLibertad       41\n",
       "Arequipa         25\n",
       "Cusco            22\n",
       "Junin            17\n",
       "Ancash           17\n",
       "Cajamarca        14\n",
       "Loreto           12\n",
       "Tumbes           11\n",
       "Tacna            11\n",
       "Huanuco           8\n",
       "Pasco             7\n",
       "SanMartin         5\n",
       "Ucayali           5\n",
       "Apurimac          3\n",
       "Ayacucho          2\n",
       "MadreDeDios       2\n",
       "Puno              2\n",
       "Name: Provincia, dtype: int64"
      ]
     },
     "execution_count": 7,
     "metadata": {},
     "output_type": "execute_result"
    }
   ],
   "source": [
    "df.Provincia.value_counts()"
   ]
  },
  {
   "cell_type": "code",
   "execution_count": 8,
   "metadata": {},
   "outputs": [
    {
     "data": {
      "text/plain": [
       "array(['0', '1', 'NoEspecifica'], dtype=object)"
      ]
     },
     "execution_count": 8,
     "metadata": {},
     "output_type": "execute_result"
    }
   ],
   "source": [
    "df[\"'Cocina con reposteros'\"].unique()"
   ]
  },
  {
   "cell_type": "code",
   "execution_count": 9,
   "metadata": {},
   "outputs": [
    {
     "data": {
      "text/plain": [
       "0               3750\n",
       "NoEspecifica    2645\n",
       "1               1268\n",
       "Name: 'Terma', dtype: int64"
      ]
     },
     "execution_count": 9,
     "metadata": {},
     "output_type": "execute_result"
    }
   ],
   "source": [
    "df[\"'Terma'\"].value_counts()"
   ]
  },
  {
   "cell_type": "code",
   "execution_count": 10,
   "metadata": {},
   "outputs": [],
   "source": [
    "## MANEJO DE LA DATA"
   ]
  },
  {
   "cell_type": "code",
   "execution_count": 11,
   "metadata": {},
   "outputs": [],
   "source": [
    "def tidy_corr_matrix(corr_mat):\n",
    "    '''\n",
    "    Función para convertir una matriz de correlación de pandas en formato tidy\n",
    "    '''\n",
    "    corr_mat = corr_mat.stack().reset_index()\n",
    "    corr_mat.columns = ['variable_1','variable_2','r']\n",
    "    corr_mat = corr_mat.loc[corr_mat['variable_1'] != corr_mat['variable_2'], :]\n",
    "    corr_mat['abs_r'] = np.abs(corr_mat['r'])\n",
    "    corr_mat = corr_mat.sort_values('abs_r', ascending=False)\n",
    "    \n",
    "    return(corr_mat)"
   ]
  },
  {
   "cell_type": "code",
   "execution_count": 12,
   "metadata": {},
   "outputs": [
    {
     "data": {
      "text/html": [
       "<div>\n",
       "<style scoped>\n",
       "    .dataframe tbody tr th:only-of-type {\n",
       "        vertical-align: middle;\n",
       "    }\n",
       "\n",
       "    .dataframe tbody tr th {\n",
       "        vertical-align: top;\n",
       "    }\n",
       "\n",
       "    .dataframe thead th {\n",
       "        text-align: right;\n",
       "    }\n",
       "</style>\n",
       "<table border=\"1\" class=\"dataframe\">\n",
       "  <thead>\n",
       "    <tr style=\"text-align: right;\">\n",
       "      <th></th>\n",
       "      <th>variable_1</th>\n",
       "      <th>variable_2</th>\n",
       "      <th>r</th>\n",
       "      <th>abs_r</th>\n",
       "    </tr>\n",
       "  </thead>\n",
       "  <tbody>\n",
       "    <tr>\n",
       "      <th>1</th>\n",
       "      <td>latitud</td>\n",
       "      <td>longitud</td>\n",
       "      <td>-0.434893</td>\n",
       "      <td>0.434893</td>\n",
       "    </tr>\n",
       "    <tr>\n",
       "      <th>3</th>\n",
       "      <td>longitud</td>\n",
       "      <td>latitud</td>\n",
       "      <td>-0.434893</td>\n",
       "      <td>0.434893</td>\n",
       "    </tr>\n",
       "    <tr>\n",
       "      <th>2</th>\n",
       "      <td>latitud</td>\n",
       "      <td>Area_constr_m2</td>\n",
       "      <td>-0.030855</td>\n",
       "      <td>0.030855</td>\n",
       "    </tr>\n",
       "    <tr>\n",
       "      <th>6</th>\n",
       "      <td>Area_constr_m2</td>\n",
       "      <td>latitud</td>\n",
       "      <td>-0.030855</td>\n",
       "      <td>0.030855</td>\n",
       "    </tr>\n",
       "    <tr>\n",
       "      <th>5</th>\n",
       "      <td>longitud</td>\n",
       "      <td>Area_constr_m2</td>\n",
       "      <td>0.007509</td>\n",
       "      <td>0.007509</td>\n",
       "    </tr>\n",
       "    <tr>\n",
       "      <th>7</th>\n",
       "      <td>Area_constr_m2</td>\n",
       "      <td>longitud</td>\n",
       "      <td>0.007509</td>\n",
       "      <td>0.007509</td>\n",
       "    </tr>\n",
       "  </tbody>\n",
       "</table>\n",
       "</div>"
      ],
      "text/plain": [
       "       variable_1      variable_2         r     abs_r\n",
       "1         latitud        longitud -0.434893  0.434893\n",
       "3        longitud         latitud -0.434893  0.434893\n",
       "2         latitud  Area_constr_m2 -0.030855  0.030855\n",
       "6  Area_constr_m2         latitud -0.030855  0.030855\n",
       "5        longitud  Area_constr_m2  0.007509  0.007509\n",
       "7  Area_constr_m2        longitud  0.007509  0.007509"
      ]
     },
     "execution_count": 12,
     "metadata": {},
     "output_type": "execute_result"
    }
   ],
   "source": [
    "corr_matrix = df.select_dtypes(include=['float64', 'int']).corr(method='pearson')\n",
    "tidy_corr_matrix(corr_matrix).head(10)"
   ]
  },
  {
   "cell_type": "code",
   "execution_count": 13,
   "metadata": {},
   "outputs": [
    {
     "data": {
      "text/plain": [
       "array([3., 5., 4., 2., 1.])"
      ]
     },
     "execution_count": 13,
     "metadata": {},
     "output_type": "execute_result"
    }
   ],
   "source": [
    "df.loc[df['Dormitorios']==\"5+\",'Dormitorios'] = '5'\n",
    "df['Dormitorios']=df['Dormitorios'].astype(float)\n",
    "df.Dormitorios.unique()  "
   ]
  },
  {
   "cell_type": "code",
   "execution_count": 14,
   "metadata": {},
   "outputs": [
    {
     "data": {
      "text/plain": [
       "(1.0    7394\n",
       " 0.0     269\n",
       " Name: Mascotas, dtype: int64,\n",
       " dtype('float64'))"
      ]
     },
     "execution_count": 14,
     "metadata": {},
     "output_type": "execute_result"
    }
   ],
   "source": [
    "df.loc[df[\"Mascotas\"]==\"Si\",\"Mascotas\"] = 1\n",
    "df.loc[df[\"Mascotas\"]==\"No\",\"Mascotas\"] = 0\n",
    "df['Mascotas']=df['Mascotas'].astype(float)\n",
    "df.Mascotas.value_counts() , df.Mascotas.dtype"
   ]
  },
  {
   "cell_type": "code",
   "execution_count": 15,
   "metadata": {},
   "outputs": [
    {
     "data": {
      "text/plain": [
       "(Casa                  5448\n",
       " Casa en condominio     870\n",
       " Casa de Playa          816\n",
       " OTROS                  529\n",
       " Name: Tipo, dtype: int64,\n",
       " dtype('O'))"
      ]
     },
     "execution_count": 15,
     "metadata": {},
     "output_type": "execute_result"
    }
   ],
   "source": [
    "dict_nombre_Tipo={'Casa de campo':'OTROS','Casa de Playa en condominio':'OTROS',\n",
    "                     'Casa en quinta':'OTROS','Departamento':'OTROS'}\n",
    "\n",
    "df['Tipo'].replace(dict_nombre_Tipo,inplace=True)\n",
    "df.Tipo.value_counts() , df.Tipo.dtype"
   ]
  },
  {
   "cell_type": "code",
   "execution_count": 16,
   "metadata": {},
   "outputs": [
    {
     "data": {
      "text/plain": [
       "(9.0    2637\n",
       " 4.0    1573\n",
       " 3.0    1272\n",
       " 5.0    1070\n",
       " 2.0     605\n",
       " 0.0     407\n",
       " 1.0      99\n",
       " Name: Estado de Inmueble, dtype: int64,\n",
       " dtype('float64'))"
      ]
     },
     "execution_count": 16,
     "metadata": {},
     "output_type": "execute_result"
    }
   ],
   "source": [
    "dict_nombre_Inmueble={'NoEspecifica':9,'Excelente':5,'Muy bueno':4,\n",
    "                     'A Remodelar':0,'Bueno':3,'Remodelado':2,'Regular':1}\n",
    "\n",
    "df['Estado de Inmueble'].replace(dict_nombre_Inmueble,inplace=True)\n",
    "df['Estado de Inmueble']=df['Estado de Inmueble'].astype(float)\n",
    "df['Estado de Inmueble'].value_counts() , df['Estado de Inmueble'].dtype"
   ]
  },
  {
   "cell_type": "code",
   "execution_count": 17,
   "metadata": {},
   "outputs": [
    {
     "data": {
      "text/plain": [
       "(9    6796\n",
       " 0     450\n",
       " 1     417\n",
       " Name: Uso_comercial, dtype: int64,\n",
       " dtype('int64'))"
      ]
     },
     "execution_count": 17,
     "metadata": {},
     "output_type": "execute_result"
    }
   ],
   "source": [
    "dict_nombre_Uso_comercial={'NoEspecifica':9,'No':0,\n",
    "                     'Si':1}\n",
    "\n",
    "df['Uso_comercial'].replace(dict_nombre_Uso_comercial,inplace=True)\n",
    "df.Uso_comercial.value_counts() , df.Uso_comercial.dtype"
   ]
  },
  {
   "cell_type": "code",
   "execution_count": 18,
   "metadata": {},
   "outputs": [
    {
     "data": {
      "text/plain": [
       "9    6823\n",
       "1     488\n",
       "0     352\n",
       "Name: Uso_profesional, dtype: int64"
      ]
     },
     "execution_count": 18,
     "metadata": {},
     "output_type": "execute_result"
    }
   ],
   "source": [
    "dict_nombre_Uso_profesional={'NoEspecifica':9,'No':0,\n",
    "                     'Si':1}\n",
    "\n",
    "df['Uso_profesional'].replace(dict_nombre_Uso_profesional,inplace=True)\n",
    "df.Uso_profesional.value_counts()"
   ]
  },
  {
   "cell_type": "code",
   "execution_count": 19,
   "metadata": {},
   "outputs": [
    {
     "data": {
      "text/plain": [
       "dtype('float64')"
      ]
     },
     "execution_count": 19,
     "metadata": {},
     "output_type": "execute_result"
    }
   ],
   "source": [
    "#df[df[\"Area_total_m2\"]==\"NoEspecifica\"]\n",
    "df= df.drop(df[df[\"Area_total_m2\"]==\"NoEspecifica\"].index)\n",
    "df['Area_total_m2']=df['Area_total_m2'].astype(float)\n",
    "df.Area_total_m2.dtype"
   ]
  },
  {
   "cell_type": "code",
   "execution_count": 20,
   "metadata": {},
   "outputs": [
    {
     "data": {
      "text/html": [
       "<div>\n",
       "<style scoped>\n",
       "    .dataframe tbody tr th:only-of-type {\n",
       "        vertical-align: middle;\n",
       "    }\n",
       "\n",
       "    .dataframe tbody tr th {\n",
       "        vertical-align: top;\n",
       "    }\n",
       "\n",
       "    .dataframe thead th {\n",
       "        text-align: right;\n",
       "    }\n",
       "</style>\n",
       "<table border=\"1\" class=\"dataframe\">\n",
       "  <thead>\n",
       "    <tr style=\"text-align: right;\">\n",
       "      <th></th>\n",
       "      <th>Unnamed: 0</th>\n",
       "      <th>Antiguedad</th>\n",
       "      <th>Anunciante</th>\n",
       "      <th>Balneario</th>\n",
       "      <th>NroBanios</th>\n",
       "      <th>Nro_pisos</th>\n",
       "      <th>Cocheras</th>\n",
       "      <th>Descripcion</th>\n",
       "      <th>Direccion</th>\n",
       "      <th>Dormitorios</th>\n",
       "      <th>...</th>\n",
       "      <th>'Amoblado'</th>\n",
       "      <th>'Sauna'</th>\n",
       "      <th>'Calefaccion'</th>\n",
       "      <th>'Equipado'</th>\n",
       "      <th>'Terma'</th>\n",
       "      <th>'Portero electrico'</th>\n",
       "      <th>'Cocina con reposteros'</th>\n",
       "      <th>Distrito</th>\n",
       "      <th>Provincia</th>\n",
       "      <th>precio_por_area</th>\n",
       "    </tr>\n",
       "  </thead>\n",
       "  <tbody>\n",
       "    <tr>\n",
       "      <th>0</th>\n",
       "      <td>0</td>\n",
       "      <td>5</td>\n",
       "      <td>Valentinoinmobiliaria</td>\n",
       "      <td>Nulo</td>\n",
       "      <td>4</td>\n",
       "      <td>2</td>\n",
       "      <td>3</td>\n",
       "      <td>excelente opcion para vivir en una de las mej...</td>\n",
       "      <td>Malecon Monte Bello 5 La Molina, La Planicie, ...</td>\n",
       "      <td>3.0</td>\n",
       "      <td>...</td>\n",
       "      <td>0</td>\n",
       "      <td>0</td>\n",
       "      <td>0</td>\n",
       "      <td>0</td>\n",
       "      <td>0</td>\n",
       "      <td>0</td>\n",
       "      <td>0</td>\n",
       "      <td>LaMolina</td>\n",
       "      <td>Lima</td>\n",
       "      <td>147500.000000</td>\n",
       "    </tr>\n",
       "    <tr>\n",
       "      <th>1</th>\n",
       "      <td>1</td>\n",
       "      <td>5</td>\n",
       "      <td>No disponible</td>\n",
       "      <td>Nulo</td>\n",
       "      <td>5</td>\n",
       "      <td>3</td>\n",
       "      <td>1</td>\n",
       "      <td>hermosa casa a espalda de futura avenida prol...</td>\n",
       "      <td>Mz. O2 Lt. 03 Urb. San Antonio De Carapongo 2 ...</td>\n",
       "      <td>5.0</td>\n",
       "      <td>...</td>\n",
       "      <td>0</td>\n",
       "      <td>0</td>\n",
       "      <td>0</td>\n",
       "      <td>0</td>\n",
       "      <td>0</td>\n",
       "      <td>0</td>\n",
       "      <td>0</td>\n",
       "      <td>Lurigancho</td>\n",
       "      <td>Lima</td>\n",
       "      <td>81967.213115</td>\n",
       "    </tr>\n",
       "    <tr>\n",
       "      <th>2</th>\n",
       "      <td>2</td>\n",
       "      <td>3</td>\n",
       "      <td>No disponible</td>\n",
       "      <td>Nulo</td>\n",
       "      <td>5</td>\n",
       "      <td>3</td>\n",
       "      <td>4</td>\n",
       "      <td>casa de estreno acabados de primera. calle ce...</td>\n",
       "      <td>El Pinar 120 , La Planicie 1era Etapa La Molin...</td>\n",
       "      <td>4.0</td>\n",
       "      <td>...</td>\n",
       "      <td>1</td>\n",
       "      <td>1</td>\n",
       "      <td>0</td>\n",
       "      <td>1</td>\n",
       "      <td>1</td>\n",
       "      <td>1</td>\n",
       "      <td>1</td>\n",
       "      <td>LaMolina</td>\n",
       "      <td>Lima</td>\n",
       "      <td>128458.498024</td>\n",
       "    </tr>\n",
       "    <tr>\n",
       "      <th>3</th>\n",
       "      <td>5</td>\n",
       "      <td>1</td>\n",
       "      <td>No disponible</td>\n",
       "      <td>Sol Y Mar</td>\n",
       "      <td>5</td>\n",
       "      <td>2</td>\n",
       "      <td>3</td>\n",
       "      <td>linda casa en condominio con piscina club hou...</td>\n",
       "      <td>Km 98.5 De La Panamericana Sur Asia, Sol Y Mar...</td>\n",
       "      <td>4.0</td>\n",
       "      <td>...</td>\n",
       "      <td>1</td>\n",
       "      <td>0</td>\n",
       "      <td>0</td>\n",
       "      <td>0</td>\n",
       "      <td>0</td>\n",
       "      <td>0</td>\n",
       "      <td>1</td>\n",
       "      <td>Asia</td>\n",
       "      <td>Lima</td>\n",
       "      <td>253333.333333</td>\n",
       "    </tr>\n",
       "    <tr>\n",
       "      <th>4</th>\n",
       "      <td>6</td>\n",
       "      <td>4</td>\n",
       "      <td>No disponible</td>\n",
       "      <td>Nulo</td>\n",
       "      <td>4</td>\n",
       "      <td>2</td>\n",
       "      <td>2</td>\n",
       "      <td>monterrico 2 casas en 1 ( casa bajos 4 dormit...</td>\n",
       "      <td>Mariano De Rivera Y Ustariz #215 Surco, Huerto...</td>\n",
       "      <td>5.0</td>\n",
       "      <td>...</td>\n",
       "      <td>0</td>\n",
       "      <td>0</td>\n",
       "      <td>0</td>\n",
       "      <td>0</td>\n",
       "      <td>1</td>\n",
       "      <td>0</td>\n",
       "      <td>1</td>\n",
       "      <td>SantiagoDeSurco</td>\n",
       "      <td>Lima</td>\n",
       "      <td>171511.627907</td>\n",
       "    </tr>\n",
       "  </tbody>\n",
       "</table>\n",
       "<p>5 rows × 96 columns</p>\n",
       "</div>"
      ],
      "text/plain": [
       "   Unnamed: 0  Antiguedad              Anunciante  Balneario  NroBanios  \\\n",
       "0           0           5  Valentinoinmobiliaria        Nulo          4   \n",
       "1           1           5           No disponible       Nulo          5   \n",
       "2           2           3           No disponible       Nulo          5   \n",
       "3           5           1           No disponible  Sol Y Mar          5   \n",
       "4           6           4           No disponible       Nulo          4   \n",
       "\n",
       "   Nro_pisos  Cocheras                                        Descripcion  \\\n",
       "0          2         3   excelente opcion para vivir en una de las mej...   \n",
       "1          3         1   hermosa casa a espalda de futura avenida prol...   \n",
       "2          3         4   casa de estreno acabados de primera. calle ce...   \n",
       "3          2         3   linda casa en condominio con piscina club hou...   \n",
       "4          2         2   monterrico 2 casas en 1 ( casa bajos 4 dormit...   \n",
       "\n",
       "                                           Direccion  Dormitorios  ...  \\\n",
       "0  Malecon Monte Bello 5 La Molina, La Planicie, ...          3.0  ...   \n",
       "1  Mz. O2 Lt. 03 Urb. San Antonio De Carapongo 2 ...          5.0  ...   \n",
       "2  El Pinar 120 , La Planicie 1era Etapa La Molin...          4.0  ...   \n",
       "3  Km 98.5 De La Panamericana Sur Asia, Sol Y Mar...          4.0  ...   \n",
       "4  Mariano De Rivera Y Ustariz #215 Surco, Huerto...          5.0  ...   \n",
       "\n",
       "   'Amoblado' 'Sauna' 'Calefaccion'  'Equipado'  'Terma' 'Portero electrico'  \\\n",
       "0           0       0             0           0        0                   0   \n",
       "1           0       0             0           0        0                   0   \n",
       "2           1       1             0           1        1                   1   \n",
       "3           1       0             0           0        0                   0   \n",
       "4           0       0             0           0        1                   0   \n",
       "\n",
       "  'Cocina con reposteros'         Distrito  Provincia  precio_por_area  \n",
       "0                       0         LaMolina       Lima    147500.000000  \n",
       "1                       0       Lurigancho       Lima     81967.213115  \n",
       "2                       1         LaMolina       Lima    128458.498024  \n",
       "3                       1             Asia       Lima    253333.333333  \n",
       "4                       1  SantiagoDeSurco       Lima    171511.627907  \n",
       "\n",
       "[5 rows x 96 columns]"
      ]
     },
     "execution_count": 20,
     "metadata": {},
     "output_type": "execute_result"
    }
   ],
   "source": [
    "df['precio_por_area'] = df['Precio']*100/df['Area_total_m2']\n",
    "df.head()"
   ]
  },
  {
   "cell_type": "code",
   "execution_count": 21,
   "metadata": {},
   "outputs": [],
   "source": [
    "col = [\"'Cuarto de servicio'\",\"'Deposito'\",\"'Terraza'\",\"'Kitchenette'\",\"'Sala de estar'\",\"'Sotano'\",\"'Patio'\",\"'anx81tico'\",\n",
    "        \"'Comedor diario'\",\"'Comedor'\",\"'Banio de servicio'\",\"'Jardanxadn Interno'\",\"'Walking Closet'\",\"'Escritorio'\",\n",
    "        \"'Cocina'\",\"'Banio independiente'\",\"'Lavanderanxada'\",\"'Balcon'\",\"'Sala'\",\"'Closet'\",\"'Banio de visitas'\",\"'Agua'\",\n",
    "        \"'Guardiananxada'\",\"'Internet'\",\"'Luz'\",\"'Cable'\",\"'Servicio de Limpieza'\",\"'Conexion a gas'\",\"'Sistema de seguridad'\",\n",
    "        \"'Telefono'\",\"'Areadeportiva'\",\"'Piscina'\",\"'Solarium'\",\"'Sala de internet'\",\"'Sala de cine'\",\"'Jardanxadn'\",\n",
    "        \"'Parque interno'\",\"'Guarderanxada'\",\"'anx81reas verdes'\",\"'Club House'\",\"'Hall de ingreso'\",\"'Areade BBQ'\",\n",
    "        \"'Gimnasio'\",\"'Areade sauna'\",\"'Juegos para ninios'\",\"'Ingreso independiente'\",\"'Colegios cercanos'\",\n",
    "        \"'Cerca al mar'\",\"'Centros comerciales cercanos'\",\"'Parques cercanos'\",\"'Acceso personas discapacidad'\",\n",
    "        \"'Frente al mar'\",\"'Desagaue'\",\"'Jacuzzi'\",\"'Chimenea'\",\"'Intercomunicador'\",\"'Cerco Electrico'\",\"'Parrilla'\",\n",
    "        \"'Aire acondicionado'\",\"'Amoblado'\",\"'Sauna'\",\"'Calefaccion'\",\"'Equipado'\",\"'Terma'\",\"'Portero electrico'\",\n",
    "        \"'Cocina con reposteros'\"]\n",
    "df[col]= df[col].replace({\"NoEspecifica\": 9}) # 0:Asent, 1 : Present and 9: Not Mentioned\n",
    "df[col] = df[col].astype(float)"
   ]
  },
  {
   "cell_type": "code",
   "execution_count": 22,
   "metadata": {},
   "outputs": [],
   "source": [
    "## DATOS VACIOS\n",
    "\n",
    "def vacios(df):\n",
    "    total = df.isnull().sum().sort_values(ascending=False)\n",
    "    percent = (df.isnull().sum()/df.isnull().count()).sort_values(ascending=False)\n",
    "    missing_data = pd.concat([total, percent], axis=1, keys=['Total', 'Percent'])\n",
    "    print(missing_data.head(20))"
   ]
  },
  {
   "cell_type": "code",
   "execution_count": 23,
   "metadata": {},
   "outputs": [
    {
     "name": "stdout",
     "output_type": "stream",
     "text": [
      "                        Total  Percent\n",
      "Unnamed: 0                  0      0.0\n",
      "Antiguedad                  0      0.0\n",
      "'Areade sauna'              0      0.0\n",
      "'Gimnasio'                  0      0.0\n",
      "'Areade BBQ'                0      0.0\n",
      "'Hall de ingreso'           0      0.0\n",
      "'Club House'                0      0.0\n",
      "'anx81reas verdes'          0      0.0\n",
      "'Guarderanxada'             0      0.0\n",
      "'Parque interno'            0      0.0\n",
      "'Jardanxadn'                0      0.0\n",
      "'Sala de cine'              0      0.0\n",
      "'Sala de internet'          0      0.0\n",
      "'Solarium'                  0      0.0\n",
      "'Piscina'                   0      0.0\n",
      "'Areadeportiva'             0      0.0\n",
      "'Telefono'                  0      0.0\n",
      "'Sistema de seguridad'      0      0.0\n",
      "'Conexion a gas'            0      0.0\n",
      "'Servicio de Limpieza'      0      0.0\n"
     ]
    }
   ],
   "source": [
    "vacios(df) ## No hay datos vacíos"
   ]
  },
  {
   "cell_type": "code",
   "execution_count": 24,
   "metadata": {},
   "outputs": [
    {
     "data": {
      "text/plain": [
       "LaMolina           2275\n",
       "SantiagoDeSurco    1091\n",
       "Asia                589\n",
       "SanIsidro           422\n",
       "Miraflores          293\n",
       "                   ... \n",
       "Pocollay              1\n",
       "Huaura                1\n",
       "VillaRica             1\n",
       "Canta                 1\n",
       "Lambayeque            1\n",
       "Name: Distrito, Length: 163, dtype: int64"
      ]
     },
     "execution_count": 24,
     "metadata": {},
     "output_type": "execute_result"
    }
   ],
   "source": [
    "#Reduciendo dimensiones\n",
    "#DISTRITO\n",
    "df.Distrito.value_counts()"
   ]
  },
  {
   "cell_type": "code",
   "execution_count": 25,
   "metadata": {},
   "outputs": [
    {
     "data": {
      "text/plain": [
       "count     163.000000\n",
       "mean       47.006135\n",
       "std       205.900057\n",
       "min         1.000000\n",
       "25%         1.000000\n",
       "50%         5.000000\n",
       "75%        20.000000\n",
       "max      2275.000000\n",
       "Name: Distrito, dtype: float64"
      ]
     },
     "execution_count": 25,
     "metadata": {},
     "output_type": "execute_result"
    }
   ],
   "source": [
    "distrito_stats= df.Distrito.value_counts()\n",
    "distrito_stats.describe()"
   ]
  },
  {
   "cell_type": "code",
   "execution_count": 26,
   "metadata": {},
   "outputs": [
    {
     "data": {
      "text/plain": [
       "Chiclayo               50\n",
       "PuntaHermosa           47\n",
       "Lurigancho             46\n",
       "SanJuanDeMiraflores    45\n",
       "Bellavista             42\n",
       "                       ..\n",
       "Pocollay                1\n",
       "Huaura                  1\n",
       "VillaRica               1\n",
       "Canta                   1\n",
       "Lambayeque              1\n",
       "Name: Distrito, Length: 139, dtype: int64"
      ]
     },
     "execution_count": 26,
     "metadata": {},
     "output_type": "execute_result"
    }
   ],
   "source": [
    "distrito_stats_less_than_50 = distrito_stats[distrito_stats<=50]\n",
    "distrito_stats_less_than_50"
   ]
  },
  {
   "cell_type": "code",
   "execution_count": 27,
   "metadata": {},
   "outputs": [
    {
     "data": {
      "text/plain": [
       "24"
      ]
     },
     "execution_count": 27,
     "metadata": {},
     "output_type": "execute_result"
    }
   ],
   "source": [
    "len(distrito_stats[distrito_stats>50])"
   ]
  },
  {
   "cell_type": "code",
   "execution_count": 28,
   "metadata": {},
   "outputs": [
    {
     "data": {
      "text/plain": [
       "25"
      ]
     },
     "execution_count": 28,
     "metadata": {},
     "output_type": "execute_result"
    }
   ],
   "source": [
    "df.Distrito = df.Distrito.apply(lambda x: 'OTROS' if x in distrito_stats_less_than_50 else x)\n",
    "len(df.Distrito.unique())"
   ]
  },
  {
   "cell_type": "code",
   "execution_count": 29,
   "metadata": {},
   "outputs": [
    {
     "data": {
      "text/plain": [
       "count      22.000000\n",
       "mean      348.272727\n",
       "std      1514.585821\n",
       "min         2.000000\n",
       "25%         5.500000\n",
       "50%        13.000000\n",
       "75%        37.000000\n",
       "max      7128.000000\n",
       "Name: Provincia, dtype: float64"
      ]
     },
     "execution_count": 29,
     "metadata": {},
     "output_type": "execute_result"
    }
   ],
   "source": [
    "# PROVINCIA\n",
    "provincia_stats =df.Provincia.value_counts()\n",
    "provincia_stats.describe()"
   ]
  },
  {
   "cell_type": "code",
   "execution_count": 30,
   "metadata": {},
   "outputs": [
    {
     "data": {
      "text/plain": [
       "Arequipa       25\n",
       "Cusco          22\n",
       "Junin          17\n",
       "Ancash         17\n",
       "Cajamarca      14\n",
       "Loreto         12\n",
       "Tumbes         11\n",
       "Tacna          11\n",
       "Huanuco         8\n",
       "Pasco           7\n",
       "SanMartin       5\n",
       "Ucayali         5\n",
       "Apurimac        3\n",
       "Ayacucho        2\n",
       "MadreDeDios     2\n",
       "Puno            2\n",
       "Name: Provincia, dtype: int64"
      ]
     },
     "execution_count": 30,
     "metadata": {},
     "output_type": "execute_result"
    }
   ],
   "source": [
    "provincia_stats_less_than_25 = provincia_stats[provincia_stats<=25]\n",
    "provincia_stats_less_than_25"
   ]
  },
  {
   "cell_type": "code",
   "execution_count": 31,
   "metadata": {},
   "outputs": [
    {
     "data": {
      "text/plain": [
       "7"
      ]
     },
     "execution_count": 31,
     "metadata": {},
     "output_type": "execute_result"
    }
   ],
   "source": [
    "df.Provincia = df.Provincia.apply(lambda x: 'OTROS' if x in provincia_stats_less_than_25 else x)\n",
    "len(df.Provincia.unique())"
   ]
  },
  {
   "cell_type": "code",
   "execution_count": 32,
   "metadata": {},
   "outputs": [
    {
     "data": {
      "text/plain": [
       "<AxesSubplot:>"
      ]
     },
     "execution_count": 32,
     "metadata": {},
     "output_type": "execute_result"
    },
    {
     "data": {
      "image/png": "[encoded data removed]",
      "text/plain": [
       "<Figure size 1440x720 with 1 Axes>"
      ]
     },
     "metadata": {
      "needs_background": "light"
     },
     "output_type": "display_data"
    }
   ],
   "source": [
    "# TRATAMIENTO DE OUTLIERS\n",
    "df['Precio'].hist()"
   ]
  },
  {
   "cell_type": "code",
   "execution_count": 33,
   "metadata": {},
   "outputs": [
    {
     "name": "stderr",
     "output_type": "stream",
     "text": [
      "D:\\Python\\lib\\site-packages\\seaborn\\distributions.py:2557: FutureWarning: `distplot` is a deprecated function and will be removed in a future version. Please adapt your code to use either `displot` (a figure-level function with similar flexibility) or `histplot` (an axes-level function for histograms).\n",
      "  warnings.warn(msg, FutureWarning)\n"
     ]
    },
    {
     "data": {
      "image/png": "[encoded data removed]",
      "text/plain": [
       "<Figure size 1440x720 with 1 Axes>"
      ]
     },
     "metadata": {
      "needs_background": "light"
     },
     "output_type": "display_data"
    },
    {
     "data": {
      "image/png": "[encoded data removed]",
      "text/plain": [
       "<Figure size 1440x720 with 1 Axes>"
      ]
     },
     "metadata": {
      "needs_background": "light"
     },
     "output_type": "display_data"
    }
   ],
   "source": [
    "sb.distplot(df['Precio'], fit=norm);\n",
    "fig = plt.figure()\n",
    "res = stats.probplot(df['Precio'], plot=plt)"
   ]
  },
  {
   "cell_type": "code",
   "execution_count": 34,
   "metadata": {},
   "outputs": [
    {
     "data": {
      "text/plain": [
       "<AxesSubplot:xlabel='Precio', ylabel='Provincia'>"
      ]
     },
     "execution_count": 34,
     "metadata": {},
     "output_type": "execute_result"
    },
    {
     "data": {
      "image/png": "[encoded data removed]",
      "text/plain": [
       "<Figure size 1440x720 with 1 Axes>"
      ]
     },
     "metadata": {
      "needs_background": "light"
     },
     "output_type": "display_data"
    }
   ],
   "source": [
    "sb.scatterplot(x='Precio',y='Provincia',hue='Provincia',data=df)"
   ]
  },
  {
   "cell_type": "code",
   "execution_count": 35,
   "metadata": {},
   "outputs": [
    {
     "data": {
      "text/plain": [
       "count    7.662000e+03\n",
       "mean     8.742914e+05\n",
       "std      6.556891e+06\n",
       "min      2.200000e+04\n",
       "25%      3.100000e+05\n",
       "50%      5.792500e+05\n",
       "75%      9.950000e+05\n",
       "max      5.700000e+08\n",
       "Name: Precio, dtype: float64"
      ]
     },
     "execution_count": 35,
     "metadata": {},
     "output_type": "execute_result"
    }
   ],
   "source": [
    "df.Precio.describe()"
   ]
  },
  {
   "cell_type": "code",
   "execution_count": 36,
   "metadata": {},
   "outputs": [
    {
     "data": {
      "text/plain": [
       "<AxesSubplot:xlabel='Precio', ylabel='Provincia'>"
      ]
     },
     "execution_count": 36,
     "metadata": {},
     "output_type": "execute_result"
    },
    {
     "data": {
      "image/png": "[encoded data removed]",
      "text/plain": [
       "<Figure size 1440x720 with 1 Axes>"
      ]
     },
     "metadata": {
      "needs_background": "light"
     },
     "output_type": "display_data"
    }
   ],
   "source": [
    "\n",
    "sb.scatterplot(x='Precio',y='Provincia',hue='Provincia',data=df)"
   ]
  },
  {
   "cell_type": "code",
   "execution_count": 37,
   "metadata": {},
   "outputs": [
    {
     "data": {
      "text/html": [
       "<div>\n",
       "<style scoped>\n",
       "    .dataframe tbody tr th:only-of-type {\n",
       "        vertical-align: middle;\n",
       "    }\n",
       "\n",
       "    .dataframe tbody tr th {\n",
       "        vertical-align: top;\n",
       "    }\n",
       "\n",
       "    .dataframe thead th {\n",
       "        text-align: right;\n",
       "    }\n",
       "</style>\n",
       "<table border=\"1\" class=\"dataframe\">\n",
       "  <thead>\n",
       "    <tr style=\"text-align: right;\">\n",
       "      <th></th>\n",
       "      <th>Unnamed: 0</th>\n",
       "      <th>Antiguedad</th>\n",
       "      <th>Anunciante</th>\n",
       "      <th>Balneario</th>\n",
       "      <th>NroBanios</th>\n",
       "      <th>Nro_pisos</th>\n",
       "      <th>Cocheras</th>\n",
       "      <th>Descripcion</th>\n",
       "      <th>Direccion</th>\n",
       "      <th>Dormitorios</th>\n",
       "      <th>...</th>\n",
       "      <th>'Amoblado'</th>\n",
       "      <th>'Sauna'</th>\n",
       "      <th>'Calefaccion'</th>\n",
       "      <th>'Equipado'</th>\n",
       "      <th>'Terma'</th>\n",
       "      <th>'Portero electrico'</th>\n",
       "      <th>'Cocina con reposteros'</th>\n",
       "      <th>Distrito</th>\n",
       "      <th>Provincia</th>\n",
       "      <th>precio_por_area</th>\n",
       "    </tr>\n",
       "  </thead>\n",
       "  <tbody>\n",
       "    <tr>\n",
       "      <th>532</th>\n",
       "      <td>596</td>\n",
       "      <td>3</td>\n",
       "      <td>CENTURY 21 Delta Excellence</td>\n",
       "      <td>Nulo</td>\n",
       "      <td>5</td>\n",
       "      <td>3</td>\n",
       "      <td>0</td>\n",
       "      <td>casa con area de terreno de 97.26m2 tu casa s...</td>\n",
       "      <td>As: 4487 Villa Club Ii Carabayllo, Lima, Lima</td>\n",
       "      <td>2.0</td>\n",
       "      <td>...</td>\n",
       "      <td>0.0</td>\n",
       "      <td>0.0</td>\n",
       "      <td>0.0</td>\n",
       "      <td>0.0</td>\n",
       "      <td>0.0</td>\n",
       "      <td>0.0</td>\n",
       "      <td>1.0</td>\n",
       "      <td>Carabayllo</td>\n",
       "      <td>Lima</td>\n",
       "      <td>59210.526316</td>\n",
       "    </tr>\n",
       "    <tr>\n",
       "      <th>600</th>\n",
       "      <td>670</td>\n",
       "      <td>6</td>\n",
       "      <td>PERU REAL ESTATE</td>\n",
       "      <td>Nulo</td>\n",
       "      <td>5</td>\n",
       "      <td>3</td>\n",
       "      <td>0</td>\n",
       "      <td>excelente ubicacion de local comercial y vivi...</td>\n",
       "      <td>Av. Las Almendras S.m Porres, El Naranjal, Lim...</td>\n",
       "      <td>1.0</td>\n",
       "      <td>...</td>\n",
       "      <td>9.0</td>\n",
       "      <td>9.0</td>\n",
       "      <td>9.0</td>\n",
       "      <td>9.0</td>\n",
       "      <td>9.0</td>\n",
       "      <td>9.0</td>\n",
       "      <td>9.0</td>\n",
       "      <td>SanMartinDePorres</td>\n",
       "      <td>Lima</td>\n",
       "      <td>303680.981595</td>\n",
       "    </tr>\n",
       "    <tr>\n",
       "      <th>938</th>\n",
       "      <td>1044</td>\n",
       "      <td>3</td>\n",
       "      <td>CAPITAL BROKERS PERU</td>\n",
       "      <td>Nulo</td>\n",
       "      <td>5</td>\n",
       "      <td>2</td>\n",
       "      <td>2</td>\n",
       "      <td>casa en venta en los ficus!! casa ubicada en ...</td>\n",
       "      <td>Av. Los Ficus 129 La Molina La Molina, El Rema...</td>\n",
       "      <td>2.0</td>\n",
       "      <td>...</td>\n",
       "      <td>0.0</td>\n",
       "      <td>0.0</td>\n",
       "      <td>0.0</td>\n",
       "      <td>0.0</td>\n",
       "      <td>1.0</td>\n",
       "      <td>1.0</td>\n",
       "      <td>1.0</td>\n",
       "      <td>LaMolina</td>\n",
       "      <td>Lima</td>\n",
       "      <td>120614.035088</td>\n",
       "    </tr>\n",
       "    <tr>\n",
       "      <th>1148</th>\n",
       "      <td>1279</td>\n",
       "      <td>3</td>\n",
       "      <td>Betty Flores</td>\n",
       "      <td>Nulo</td>\n",
       "      <td>5</td>\n",
       "      <td>3</td>\n",
       "      <td>1</td>\n",
       "      <td>inmobiliaria venta casa en centro de los oliv...</td>\n",
       "      <td>Prolongacion Escorpio Los Olivos, Mercurio, Li...</td>\n",
       "      <td>2.0</td>\n",
       "      <td>...</td>\n",
       "      <td>0.0</td>\n",
       "      <td>0.0</td>\n",
       "      <td>0.0</td>\n",
       "      <td>0.0</td>\n",
       "      <td>0.0</td>\n",
       "      <td>0.0</td>\n",
       "      <td>0.0</td>\n",
       "      <td>LosOlivos</td>\n",
       "      <td>Lima</td>\n",
       "      <td>127272.727273</td>\n",
       "    </tr>\n",
       "    <tr>\n",
       "      <th>1155</th>\n",
       "      <td>1288</td>\n",
       "      <td>1</td>\n",
       "      <td>Realty Group2</td>\n",
       "      <td>Nulo</td>\n",
       "      <td>5</td>\n",
       "      <td>2</td>\n",
       "      <td>1</td>\n",
       "      <td>ocasian!!!! â¢ $89000. dalares â¢ at: 200...</td>\n",
       "      <td>Mz B Lote 29 Asosiacion Vivienda Estrella Sola...</td>\n",
       "      <td>2.0</td>\n",
       "      <td>...</td>\n",
       "      <td>9.0</td>\n",
       "      <td>9.0</td>\n",
       "      <td>9.0</td>\n",
       "      <td>9.0</td>\n",
       "      <td>9.0</td>\n",
       "      <td>9.0</td>\n",
       "      <td>9.0</td>\n",
       "      <td>Carabayllo</td>\n",
       "      <td>Lima</td>\n",
       "      <td>44500.000000</td>\n",
       "    </tr>\n",
       "  </tbody>\n",
       "</table>\n",
       "<p>5 rows × 96 columns</p>\n",
       "</div>"
      ],
      "text/plain": [
       "      Unnamed: 0  Antiguedad                   Anunciante Balneario  \\\n",
       "532          596           3  CENTURY 21 Delta Excellence      Nulo   \n",
       "600          670           6             PERU REAL ESTATE      Nulo   \n",
       "938         1044           3         CAPITAL BROKERS PERU      Nulo   \n",
       "1148        1279           3                 Betty Flores      Nulo   \n",
       "1155        1288           1                Realty Group2      Nulo   \n",
       "\n",
       "      NroBanios  Nro_pisos  Cocheras  \\\n",
       "532           5          3         0   \n",
       "600           5          3         0   \n",
       "938           5          2         2   \n",
       "1148          5          3         1   \n",
       "1155          5          2         1   \n",
       "\n",
       "                                            Descripcion  \\\n",
       "532    casa con area de terreno de 97.26m2 tu casa s...   \n",
       "600    excelente ubicacion de local comercial y vivi...   \n",
       "938    casa en venta en los ficus!! casa ubicada en ...   \n",
       "1148   inmobiliaria venta casa en centro de los oliv...   \n",
       "1155   ocasian!!!! â¢ $89000. dalares â¢ at: 200...   \n",
       "\n",
       "                                              Direccion  Dormitorios  ...  \\\n",
       "532       As: 4487 Villa Club Ii Carabayllo, Lima, Lima          2.0  ...   \n",
       "600   Av. Las Almendras S.m Porres, El Naranjal, Lim...          1.0  ...   \n",
       "938   Av. Los Ficus 129 La Molina La Molina, El Rema...          2.0  ...   \n",
       "1148  Prolongacion Escorpio Los Olivos, Mercurio, Li...          2.0  ...   \n",
       "1155  Mz B Lote 29 Asosiacion Vivienda Estrella Sola...          2.0  ...   \n",
       "\n",
       "      'Amoblado' 'Sauna' 'Calefaccion'  'Equipado'  'Terma'  \\\n",
       "532          0.0     0.0           0.0         0.0      0.0   \n",
       "600          9.0     9.0           9.0         9.0      9.0   \n",
       "938          0.0     0.0           0.0         0.0      1.0   \n",
       "1148         0.0     0.0           0.0         0.0      0.0   \n",
       "1155         9.0     9.0           9.0         9.0      9.0   \n",
       "\n",
       "     'Portero electrico' 'Cocina con reposteros'           Distrito  \\\n",
       "532                  0.0                     1.0         Carabayllo   \n",
       "600                  9.0                     9.0  SanMartinDePorres   \n",
       "938                  1.0                     1.0           LaMolina   \n",
       "1148                 0.0                     0.0          LosOlivos   \n",
       "1155                 9.0                     9.0         Carabayllo   \n",
       "\n",
       "      Provincia  precio_por_area  \n",
       "532        Lima     59210.526316  \n",
       "600        Lima    303680.981595  \n",
       "938        Lima    120614.035088  \n",
       "1148       Lima    127272.727273  \n",
       "1155       Lima     44500.000000  \n",
       "\n",
       "[5 rows x 96 columns]"
      ]
     },
     "execution_count": 37,
     "metadata": {},
     "output_type": "execute_result"
    }
   ],
   "source": [
    "# Es inusual tener 2 baños más que el número de dormitorios en una casa.\n",
    "df[df.NroBanios>df.Dormitorios+2].head()"
   ]
  },
  {
   "cell_type": "code",
   "execution_count": 38,
   "metadata": {},
   "outputs": [
    {
     "data": {
      "text/plain": [
       "(7487, 96)"
      ]
     },
     "execution_count": 38,
     "metadata": {},
     "output_type": "execute_result"
    }
   ],
   "source": [
    "df = df[df.NroBanios<df.Dormitorios+2]\n",
    "df.shape"
   ]
  },
  {
   "cell_type": "code",
   "execution_count": 39,
   "metadata": {},
   "outputs": [
    {
     "data": {
      "text/plain": [
       "count    7.487000e+03\n",
       "mean     2.146531e+05\n",
       "std      2.914578e+06\n",
       "min      2.935010e+03\n",
       "25%      1.076599e+05\n",
       "50%      1.576087e+05\n",
       "75%      2.088074e+05\n",
       "max      2.336066e+08\n",
       "Name: precio_por_area, dtype: float64"
      ]
     },
     "execution_count": 39,
     "metadata": {},
     "output_type": "execute_result"
    }
   ],
   "source": [
    "# Removiendo Outlier con Desviación Estandar y Media\n",
    "df.precio_por_area.describe()"
   ]
  },
  {
   "cell_type": "code",
   "execution_count": 40,
   "metadata": {},
   "outputs": [
    {
     "data": {
      "text/plain": [
       "(7324, 96)"
      ]
     },
     "execution_count": 40,
     "metadata": {},
     "output_type": "execute_result"
    }
   ],
   "source": [
    "def remove_pps_outliers(df):\n",
    "    df_out = pd.DataFrame()\n",
    "    for key, subdf in df.groupby('Provincia'):\n",
    "        m = np.mean(subdf.precio_por_area)\n",
    "        st = np.std(subdf.precio_por_area)\n",
    "        reduced_df = subdf[(subdf.precio_por_area>(m-st)) & (subdf.precio_por_area<=(m+st))]\n",
    "        df_out = pd.concat([df_out,reduced_df],ignore_index=True)\n",
    "    return df_out\n",
    "df = remove_pps_outliers(df)\n",
    "df.shape"
   ]
  },
  {
   "cell_type": "code",
   "execution_count": 41,
   "metadata": {},
   "outputs": [],
   "source": [
    "# \"Unnamed: 0\"\n",
    "# Balneario: posee muchos valores nulos\n",
    "# Descripcion: Simple descripcion y no es necesaria para este análisis \n",
    "# Direccion: Esta variable está contenida en Provincia y Distrito \n",
    "# Fecha_pub: Esta variable no es necearia para este análisis \n",
    "# Ubicacion: Esta información se repite en Distrito y Provincia\n",
    "# Area_total: Valor del área en metros cuadrados que se repite con Area_total_m2\n",
    "# Area_constr: Valor de área de construcción en metros cuadrados, valor que se repite con Area_constr_m2\n",
    "# match: Todos son ceros"
   ]
  },
  {
   "cell_type": "code",
   "execution_count": 42,
   "metadata": {},
   "outputs": [
    {
     "data": {
      "text/plain": [
       "(7324, 85)"
      ]
     },
     "execution_count": 42,
     "metadata": {},
     "output_type": "execute_result"
    }
   ],
   "source": [
    "df2 = df.copy()\n",
    "df2 = df2.drop([\"Unnamed: 0\",\"Anunciante\",\"Balneario\",\"Descripcion\",\"Direccion\",\"Ubicacion\",\"Area_total\",\"Area_constr\",\"match\",\"Fecha_pub\",\"precio_por_area\"],axis=1)\n",
    "df2.shape\n"
   ]
  },
  {
   "cell_type": "code",
   "execution_count": 43,
   "metadata": {},
   "outputs": [
    {
     "data": {
      "text/html": [
       "<div>\n",
       "<style scoped>\n",
       "    .dataframe tbody tr th:only-of-type {\n",
       "        vertical-align: middle;\n",
       "    }\n",
       "\n",
       "    .dataframe tbody tr th {\n",
       "        vertical-align: top;\n",
       "    }\n",
       "\n",
       "    .dataframe thead th {\n",
       "        text-align: right;\n",
       "    }\n",
       "</style>\n",
       "<table border=\"1\" class=\"dataframe\">\n",
       "  <thead>\n",
       "    <tr style=\"text-align: right;\">\n",
       "      <th></th>\n",
       "      <th>Antiguedad</th>\n",
       "      <th>NroBanios</th>\n",
       "      <th>Nro_pisos</th>\n",
       "      <th>Cocheras</th>\n",
       "      <th>Dormitorios</th>\n",
       "      <th>Estado de Inmueble</th>\n",
       "      <th>Luminosidad</th>\n",
       "      <th>Mascotas</th>\n",
       "      <th>Precio</th>\n",
       "      <th>Tipo</th>\n",
       "      <th>...</th>\n",
       "      <th>'Aire acondicionado'</th>\n",
       "      <th>'Amoblado'</th>\n",
       "      <th>'Sauna'</th>\n",
       "      <th>'Calefaccion'</th>\n",
       "      <th>'Equipado'</th>\n",
       "      <th>'Terma'</th>\n",
       "      <th>'Portero electrico'</th>\n",
       "      <th>'Cocina con reposteros'</th>\n",
       "      <th>Distrito</th>\n",
       "      <th>Provincia</th>\n",
       "    </tr>\n",
       "  </thead>\n",
       "  <tbody>\n",
       "    <tr>\n",
       "      <th>0</th>\n",
       "      <td>4</td>\n",
       "      <td>3</td>\n",
       "      <td>2</td>\n",
       "      <td>2</td>\n",
       "      <td>5.0</td>\n",
       "      <td>4.0</td>\n",
       "      <td>Luminoso</td>\n",
       "      <td>1.0</td>\n",
       "      <td>187000</td>\n",
       "      <td>Casa</td>\n",
       "      <td>...</td>\n",
       "      <td>0.0</td>\n",
       "      <td>0.0</td>\n",
       "      <td>0.0</td>\n",
       "      <td>0.0</td>\n",
       "      <td>0.0</td>\n",
       "      <td>1.0</td>\n",
       "      <td>0.0</td>\n",
       "      <td>1.0</td>\n",
       "      <td>OTROS</td>\n",
       "      <td>Callao</td>\n",
       "    </tr>\n",
       "    <tr>\n",
       "      <th>1</th>\n",
       "      <td>3</td>\n",
       "      <td>3</td>\n",
       "      <td>3</td>\n",
       "      <td>1</td>\n",
       "      <td>5.0</td>\n",
       "      <td>4.0</td>\n",
       "      <td>Luminoso</td>\n",
       "      <td>1.0</td>\n",
       "      <td>305000</td>\n",
       "      <td>Casa</td>\n",
       "      <td>...</td>\n",
       "      <td>0.0</td>\n",
       "      <td>0.0</td>\n",
       "      <td>0.0</td>\n",
       "      <td>0.0</td>\n",
       "      <td>0.0</td>\n",
       "      <td>0.0</td>\n",
       "      <td>0.0</td>\n",
       "      <td>1.0</td>\n",
       "      <td>OTROS</td>\n",
       "      <td>Callao</td>\n",
       "    </tr>\n",
       "    <tr>\n",
       "      <th>2</th>\n",
       "      <td>3</td>\n",
       "      <td>4</td>\n",
       "      <td>2</td>\n",
       "      <td>2</td>\n",
       "      <td>4.0</td>\n",
       "      <td>9.0</td>\n",
       "      <td>NoEspecifica</td>\n",
       "      <td>1.0</td>\n",
       "      <td>200000</td>\n",
       "      <td>Casa</td>\n",
       "      <td>...</td>\n",
       "      <td>9.0</td>\n",
       "      <td>9.0</td>\n",
       "      <td>9.0</td>\n",
       "      <td>9.0</td>\n",
       "      <td>9.0</td>\n",
       "      <td>9.0</td>\n",
       "      <td>9.0</td>\n",
       "      <td>9.0</td>\n",
       "      <td>OTROS</td>\n",
       "      <td>Callao</td>\n",
       "    </tr>\n",
       "    <tr>\n",
       "      <th>3</th>\n",
       "      <td>4</td>\n",
       "      <td>2</td>\n",
       "      <td>2</td>\n",
       "      <td>2</td>\n",
       "      <td>4.0</td>\n",
       "      <td>0.0</td>\n",
       "      <td>Muy luminoso</td>\n",
       "      <td>1.0</td>\n",
       "      <td>195000</td>\n",
       "      <td>Casa</td>\n",
       "      <td>...</td>\n",
       "      <td>9.0</td>\n",
       "      <td>9.0</td>\n",
       "      <td>9.0</td>\n",
       "      <td>9.0</td>\n",
       "      <td>9.0</td>\n",
       "      <td>9.0</td>\n",
       "      <td>9.0</td>\n",
       "      <td>9.0</td>\n",
       "      <td>OTROS</td>\n",
       "      <td>Callao</td>\n",
       "    </tr>\n",
       "    <tr>\n",
       "      <th>4</th>\n",
       "      <td>3</td>\n",
       "      <td>3</td>\n",
       "      <td>2</td>\n",
       "      <td>2</td>\n",
       "      <td>4.0</td>\n",
       "      <td>9.0</td>\n",
       "      <td>Muy luminoso</td>\n",
       "      <td>1.0</td>\n",
       "      <td>200000</td>\n",
       "      <td>Casa</td>\n",
       "      <td>...</td>\n",
       "      <td>9.0</td>\n",
       "      <td>9.0</td>\n",
       "      <td>9.0</td>\n",
       "      <td>9.0</td>\n",
       "      <td>9.0</td>\n",
       "      <td>9.0</td>\n",
       "      <td>9.0</td>\n",
       "      <td>9.0</td>\n",
       "      <td>OTROS</td>\n",
       "      <td>Callao</td>\n",
       "    </tr>\n",
       "  </tbody>\n",
       "</table>\n",
       "<p>5 rows × 85 columns</p>\n",
       "</div>"
      ],
      "text/plain": [
       "   Antiguedad  NroBanios  Nro_pisos  Cocheras  Dormitorios  \\\n",
       "0           4          3          2         2          5.0   \n",
       "1           3          3          3         1          5.0   \n",
       "2           3          4          2         2          4.0   \n",
       "3           4          2          2         2          4.0   \n",
       "4           3          3          2         2          4.0   \n",
       "\n",
       "   Estado de Inmueble   Luminosidad  Mascotas  Precio  Tipo  ...  \\\n",
       "0                 4.0      Luminoso       1.0  187000  Casa  ...   \n",
       "1                 4.0      Luminoso       1.0  305000  Casa  ...   \n",
       "2                 9.0  NoEspecifica       1.0  200000  Casa  ...   \n",
       "3                 0.0  Muy luminoso       1.0  195000  Casa  ...   \n",
       "4                 9.0  Muy luminoso       1.0  200000  Casa  ...   \n",
       "\n",
       "  'Aire acondicionado'  'Amoblado'  'Sauna'  'Calefaccion'  'Equipado'  \\\n",
       "0                  0.0         0.0      0.0            0.0         0.0   \n",
       "1                  0.0         0.0      0.0            0.0         0.0   \n",
       "2                  9.0         9.0      9.0            9.0         9.0   \n",
       "3                  9.0         9.0      9.0            9.0         9.0   \n",
       "4                  9.0         9.0      9.0            9.0         9.0   \n",
       "\n",
       "   'Terma'  'Portero electrico'  'Cocina con reposteros'  Distrito  Provincia  \n",
       "0      1.0                  0.0                      1.0     OTROS     Callao  \n",
       "1      0.0                  0.0                      1.0     OTROS     Callao  \n",
       "2      9.0                  9.0                      9.0     OTROS     Callao  \n",
       "3      9.0                  9.0                      9.0     OTROS     Callao  \n",
       "4      9.0                  9.0                      9.0     OTROS     Callao  \n",
       "\n",
       "[5 rows x 85 columns]"
      ]
     },
     "execution_count": 43,
     "metadata": {},
     "output_type": "execute_result"
    }
   ],
   "source": [
    "df2.head(5)"
   ]
  },
  {
   "cell_type": "code",
   "execution_count": 44,
   "metadata": {},
   "outputs": [
    {
     "data": {
      "text/plain": [
       "Casa                  5213\n",
       "Casa en condominio     828\n",
       "Casa de Playa          785\n",
       "OTROS                  498\n",
       "Name: Tipo, dtype: int64"
      ]
     },
     "execution_count": 44,
     "metadata": {},
     "output_type": "execute_result"
    }
   ],
   "source": [
    "df2.Tipo.value_counts()"
   ]
  },
  {
   "cell_type": "code",
   "execution_count": 45,
   "metadata": {},
   "outputs": [
    {
     "data": {
      "text/html": [
       "<div>\n",
       "<style scoped>\n",
       "    .dataframe tbody tr th:only-of-type {\n",
       "        vertical-align: middle;\n",
       "    }\n",
       "\n",
       "    .dataframe tbody tr th {\n",
       "        vertical-align: top;\n",
       "    }\n",
       "\n",
       "    .dataframe thead th {\n",
       "        text-align: right;\n",
       "    }\n",
       "</style>\n",
       "<table border=\"1\" class=\"dataframe\">\n",
       "  <thead>\n",
       "    <tr style=\"text-align: right;\">\n",
       "      <th></th>\n",
       "      <th>Antiguedad</th>\n",
       "      <th>NroBanios</th>\n",
       "      <th>Nro_pisos</th>\n",
       "      <th>Cocheras</th>\n",
       "      <th>Dormitorios</th>\n",
       "      <th>Estado de Inmueble</th>\n",
       "      <th>Luminosidad</th>\n",
       "      <th>Mascotas</th>\n",
       "      <th>Precio</th>\n",
       "      <th>Tipo</th>\n",
       "      <th>...</th>\n",
       "      <th>'Aire acondicionado'</th>\n",
       "      <th>'Amoblado'</th>\n",
       "      <th>'Sauna'</th>\n",
       "      <th>'Calefaccion'</th>\n",
       "      <th>'Equipado'</th>\n",
       "      <th>'Terma'</th>\n",
       "      <th>'Portero electrico'</th>\n",
       "      <th>'Cocina con reposteros'</th>\n",
       "      <th>Distrito</th>\n",
       "      <th>Provincia</th>\n",
       "    </tr>\n",
       "  </thead>\n",
       "  <tbody>\n",
       "    <tr>\n",
       "      <th>20</th>\n",
       "      <td>3</td>\n",
       "      <td>4</td>\n",
       "      <td>2</td>\n",
       "      <td>0</td>\n",
       "      <td>5.0</td>\n",
       "      <td>4.0</td>\n",
       "      <td>Luminoso</td>\n",
       "      <td>1.0</td>\n",
       "      <td>85000</td>\n",
       "      <td>Casa</td>\n",
       "      <td>...</td>\n",
       "      <td>9.0</td>\n",
       "      <td>9.0</td>\n",
       "      <td>9.0</td>\n",
       "      <td>9.0</td>\n",
       "      <td>9.0</td>\n",
       "      <td>9.0</td>\n",
       "      <td>9.0</td>\n",
       "      <td>9.0</td>\n",
       "      <td>OTROS</td>\n",
       "      <td>Callao</td>\n",
       "    </tr>\n",
       "    <tr>\n",
       "      <th>26</th>\n",
       "      <td>3</td>\n",
       "      <td>3</td>\n",
       "      <td>2</td>\n",
       "      <td>1</td>\n",
       "      <td>5.0</td>\n",
       "      <td>3.0</td>\n",
       "      <td>Luminoso</td>\n",
       "      <td>1.0</td>\n",
       "      <td>105000</td>\n",
       "      <td>Casa</td>\n",
       "      <td>...</td>\n",
       "      <td>9.0</td>\n",
       "      <td>9.0</td>\n",
       "      <td>9.0</td>\n",
       "      <td>9.0</td>\n",
       "      <td>9.0</td>\n",
       "      <td>9.0</td>\n",
       "      <td>9.0</td>\n",
       "      <td>9.0</td>\n",
       "      <td>OTROS</td>\n",
       "      <td>Callao</td>\n",
       "    </tr>\n",
       "    <tr>\n",
       "      <th>47</th>\n",
       "      <td>2</td>\n",
       "      <td>4</td>\n",
       "      <td>3</td>\n",
       "      <td>0</td>\n",
       "      <td>5.0</td>\n",
       "      <td>3.0</td>\n",
       "      <td>Luminoso</td>\n",
       "      <td>1.0</td>\n",
       "      <td>85000</td>\n",
       "      <td>Casa</td>\n",
       "      <td>...</td>\n",
       "      <td>9.0</td>\n",
       "      <td>9.0</td>\n",
       "      <td>9.0</td>\n",
       "      <td>9.0</td>\n",
       "      <td>9.0</td>\n",
       "      <td>9.0</td>\n",
       "      <td>9.0</td>\n",
       "      <td>9.0</td>\n",
       "      <td>OTROS</td>\n",
       "      <td>Callao</td>\n",
       "    </tr>\n",
       "    <tr>\n",
       "      <th>49</th>\n",
       "      <td>3</td>\n",
       "      <td>3</td>\n",
       "      <td>3</td>\n",
       "      <td>0</td>\n",
       "      <td>5.0</td>\n",
       "      <td>5.0</td>\n",
       "      <td>Muy luminoso</td>\n",
       "      <td>1.0</td>\n",
       "      <td>90000</td>\n",
       "      <td>Casa</td>\n",
       "      <td>...</td>\n",
       "      <td>9.0</td>\n",
       "      <td>9.0</td>\n",
       "      <td>9.0</td>\n",
       "      <td>9.0</td>\n",
       "      <td>9.0</td>\n",
       "      <td>9.0</td>\n",
       "      <td>9.0</td>\n",
       "      <td>9.0</td>\n",
       "      <td>OTROS</td>\n",
       "      <td>Callao</td>\n",
       "    </tr>\n",
       "    <tr>\n",
       "      <th>50</th>\n",
       "      <td>3</td>\n",
       "      <td>3</td>\n",
       "      <td>3</td>\n",
       "      <td>1</td>\n",
       "      <td>5.0</td>\n",
       "      <td>2.0</td>\n",
       "      <td>Luminoso</td>\n",
       "      <td>1.0</td>\n",
       "      <td>180000</td>\n",
       "      <td>Casa</td>\n",
       "      <td>...</td>\n",
       "      <td>9.0</td>\n",
       "      <td>9.0</td>\n",
       "      <td>9.0</td>\n",
       "      <td>9.0</td>\n",
       "      <td>9.0</td>\n",
       "      <td>9.0</td>\n",
       "      <td>9.0</td>\n",
       "      <td>9.0</td>\n",
       "      <td>OTROS</td>\n",
       "      <td>Callao</td>\n",
       "    </tr>\n",
       "  </tbody>\n",
       "</table>\n",
       "<p>5 rows × 85 columns</p>\n",
       "</div>"
      ],
      "text/plain": [
       "    Antiguedad  NroBanios  Nro_pisos  Cocheras  Dormitorios  \\\n",
       "20           3          4          2         0          5.0   \n",
       "26           3          3          2         1          5.0   \n",
       "47           2          4          3         0          5.0   \n",
       "49           3          3          3         0          5.0   \n",
       "50           3          3          3         1          5.0   \n",
       "\n",
       "    Estado de Inmueble   Luminosidad  Mascotas  Precio  Tipo  ...  \\\n",
       "20                 4.0      Luminoso       1.0   85000  Casa  ...   \n",
       "26                 3.0      Luminoso       1.0  105000  Casa  ...   \n",
       "47                 3.0      Luminoso       1.0   85000  Casa  ...   \n",
       "49                 5.0  Muy luminoso       1.0   90000  Casa  ...   \n",
       "50                 2.0      Luminoso       1.0  180000  Casa  ...   \n",
       "\n",
       "   'Aire acondicionado'  'Amoblado'  'Sauna'  'Calefaccion'  'Equipado'  \\\n",
       "20                  9.0         9.0      9.0            9.0         9.0   \n",
       "26                  9.0         9.0      9.0            9.0         9.0   \n",
       "47                  9.0         9.0      9.0            9.0         9.0   \n",
       "49                  9.0         9.0      9.0            9.0         9.0   \n",
       "50                  9.0         9.0      9.0            9.0         9.0   \n",
       "\n",
       "    'Terma'  'Portero electrico'  'Cocina con reposteros'  Distrito  Provincia  \n",
       "20      9.0                  9.0                      9.0     OTROS     Callao  \n",
       "26      9.0                  9.0                      9.0     OTROS     Callao  \n",
       "47      9.0                  9.0                      9.0     OTROS     Callao  \n",
       "49      9.0                  9.0                      9.0     OTROS     Callao  \n",
       "50      9.0                  9.0                      9.0     OTROS     Callao  \n",
       "\n",
       "[5 rows x 85 columns]"
      ]
     },
     "execution_count": 45,
     "metadata": {},
     "output_type": "execute_result"
    }
   ],
   "source": [
    "df2[df2.Area_total_m2/df2.Dormitorios<25].head()"
   ]
  },
  {
   "cell_type": "code",
   "execution_count": 46,
   "metadata": {},
   "outputs": [
    {
     "data": {
      "text/plain": [
       "(7131, 85)"
      ]
     },
     "execution_count": 46,
     "metadata": {},
     "output_type": "execute_result"
    }
   ],
   "source": [
    "# Eliminación por criterio de Negocio donde el área mínima permitido para una vivienda en Perú es de 25 metros cuadrados \n",
    "df3 = df2[~(df2.Area_total_m2/df2.Dormitorios<25)]\n",
    "df3.shape"
   ]
  },
  {
   "cell_type": "code",
   "execution_count": 47,
   "metadata": {},
   "outputs": [
    {
     "name": "stderr",
     "output_type": "stream",
     "text": [
      "D:\\Python\\lib\\site-packages\\pandas\\core\\generic.py:5494: SettingWithCopyWarning: \n",
      "A value is trying to be set on a copy of a slice from a DataFrame.\n",
      "Try using .loc[row_indexer,col_indexer] = value instead\n",
      "\n",
      "See the caveats in the documentation: https://pandas.pydata.org/pandas-docs/stable/user_guide/indexing.html#returning-a-view-versus-a-copy\n",
      "  self[name] = value\n",
      "D:\\Python\\lib\\site-packages\\seaborn\\distributions.py:2557: FutureWarning: `distplot` is a deprecated function and will be removed in a future version. Please adapt your code to use either `displot` (a figure-level function with similar flexibility) or `histplot` (an axes-level function for histograms).\n",
      "  warnings.warn(msg, FutureWarning)\n"
     ]
    },
    {
     "data": {
      "image/png": "[encoded data removed]",
      "text/plain": [
       "<Figure size 1440x720 with 1 Axes>"
      ]
     },
     "metadata": {
      "needs_background": "light"
     },
     "output_type": "display_data"
    },
    {
     "data": {
      "image/png": "[encoded data removed]",
      "text/plain": [
       "<Figure size 1440x720 with 1 Axes>"
      ]
     },
     "metadata": {
      "needs_background": "light"
     },
     "output_type": "display_data"
    }
   ],
   "source": [
    "# Log transform the target \n",
    "df3.Precio = np.log1p(df3.Precio)\n",
    "\n",
    "sb.distplot(df3.Precio, fit=norm);\n",
    "fig = plt.figure()\n",
    "res = stats.probplot(df.Precio, plot=plt)"
   ]
  },
  {
   "cell_type": "code",
   "execution_count": 48,
   "metadata": {},
   "outputs": [
    {
     "name": "stderr",
     "output_type": "stream",
     "text": [
      "D:\\Python\\lib\\site-packages\\pandas\\core\\generic.py:5494: SettingWithCopyWarning: \n",
      "A value is trying to be set on a copy of a slice from a DataFrame.\n",
      "Try using .loc[row_indexer,col_indexer] = value instead\n",
      "\n",
      "See the caveats in the documentation: https://pandas.pydata.org/pandas-docs/stable/user_guide/indexing.html#returning-a-view-versus-a-copy\n",
      "  self[name] = value\n",
      "D:\\Python\\lib\\site-packages\\seaborn\\distributions.py:2557: FutureWarning: `distplot` is a deprecated function and will be removed in a future version. Please adapt your code to use either `displot` (a figure-level function with similar flexibility) or `histplot` (an axes-level function for histograms).\n",
      "  warnings.warn(msg, FutureWarning)\n"
     ]
    },
    {
     "data": {
      "image/png": "[encoded data removed]",
      "text/plain": [
       "<Figure size 1440x720 with 1 Axes>"
      ]
     },
     "metadata": {
      "needs_background": "light"
     },
     "output_type": "display_data"
    },
    {
     "data": {
      "image/png": "[encoded data removed]",
      "text/plain": [
       "<Figure size 1440x720 with 1 Axes>"
      ]
     },
     "metadata": {
      "needs_background": "light"
     },
     "output_type": "display_data"
    }
   ],
   "source": [
    "df3.Area_total_m2 = np.log1p(df3.Area_total_m2)\n",
    "sb.distplot(df3['Area_total_m2'], fit=norm);\n",
    "fig = plt.figure()\n",
    "res = stats.probplot(df['Area_total_m2'], plot=plt)"
   ]
  },
  {
   "cell_type": "code",
   "execution_count": 49,
   "metadata": {},
   "outputs": [
    {
     "name": "stderr",
     "output_type": "stream",
     "text": [
      "D:\\Python\\lib\\site-packages\\pandas\\core\\generic.py:5494: SettingWithCopyWarning: \n",
      "A value is trying to be set on a copy of a slice from a DataFrame.\n",
      "Try using .loc[row_indexer,col_indexer] = value instead\n",
      "\n",
      "See the caveats in the documentation: https://pandas.pydata.org/pandas-docs/stable/user_guide/indexing.html#returning-a-view-versus-a-copy\n",
      "  self[name] = value\n",
      "D:\\Python\\lib\\site-packages\\seaborn\\distributions.py:2557: FutureWarning: `distplot` is a deprecated function and will be removed in a future version. Please adapt your code to use either `displot` (a figure-level function with similar flexibility) or `histplot` (an axes-level function for histograms).\n",
      "  warnings.warn(msg, FutureWarning)\n"
     ]
    },
    {
     "data": {
      "image/png": "[encoded data removed]",
      "text/plain": [
       "<Figure size 1440x720 with 1 Axes>"
      ]
     },
     "metadata": {
      "needs_background": "light"
     },
     "output_type": "display_data"
    },
    {
     "data": {
      "image/png": "[encoded data removed]",
      "text/plain": [
       "<Figure size 1440x720 with 1 Axes>"
      ]
     },
     "metadata": {
      "needs_background": "light"
     },
     "output_type": "display_data"
    }
   ],
   "source": [
    "df3.Area_constr_m2 = np.log1p(df3.Area_constr_m2)\n",
    "sb.distplot(df3['Area_constr_m2'], fit=norm);\n",
    "fig = plt.figure()\n",
    "res = stats.probplot(df['Area_constr_m2'], plot=plt)"
   ]
  },
  {
   "cell_type": "code",
   "execution_count": 50,
   "metadata": {},
   "outputs": [
    {
     "data": {
      "text/html": [
       "<div>\n",
       "<style scoped>\n",
       "    .dataframe tbody tr th:only-of-type {\n",
       "        vertical-align: middle;\n",
       "    }\n",
       "\n",
       "    .dataframe tbody tr th {\n",
       "        vertical-align: top;\n",
       "    }\n",
       "\n",
       "    .dataframe thead th {\n",
       "        text-align: right;\n",
       "    }\n",
       "</style>\n",
       "<table border=\"1\" class=\"dataframe\">\n",
       "  <thead>\n",
       "    <tr style=\"text-align: right;\">\n",
       "      <th></th>\n",
       "      <th>Asia</th>\n",
       "      <th>Ate</th>\n",
       "      <th>Carabayllo</th>\n",
       "      <th>CercadoDeLima</th>\n",
       "      <th>CerroAzul</th>\n",
       "      <th>Chaclacayo</th>\n",
       "      <th>Chorrillos</th>\n",
       "      <th>Cieneguilla</th>\n",
       "      <th>Comas</th>\n",
       "      <th>LaMolina</th>\n",
       "      <th>...</th>\n",
       "      <th>OTROS</th>\n",
       "      <th>Pachacamac</th>\n",
       "      <th>Pucusana</th>\n",
       "      <th>PuebloLibre</th>\n",
       "      <th>SanBorja</th>\n",
       "      <th>SanIsidro</th>\n",
       "      <th>SanJuanDeLurigancho</th>\n",
       "      <th>SanMartinDePorres</th>\n",
       "      <th>SanMiguel</th>\n",
       "      <th>SantiagoDeSurco</th>\n",
       "    </tr>\n",
       "  </thead>\n",
       "  <tbody>\n",
       "    <tr>\n",
       "      <th>0</th>\n",
       "      <td>0</td>\n",
       "      <td>0</td>\n",
       "      <td>0</td>\n",
       "      <td>0</td>\n",
       "      <td>0</td>\n",
       "      <td>0</td>\n",
       "      <td>0</td>\n",
       "      <td>0</td>\n",
       "      <td>0</td>\n",
       "      <td>0</td>\n",
       "      <td>...</td>\n",
       "      <td>1</td>\n",
       "      <td>0</td>\n",
       "      <td>0</td>\n",
       "      <td>0</td>\n",
       "      <td>0</td>\n",
       "      <td>0</td>\n",
       "      <td>0</td>\n",
       "      <td>0</td>\n",
       "      <td>0</td>\n",
       "      <td>0</td>\n",
       "    </tr>\n",
       "    <tr>\n",
       "      <th>1</th>\n",
       "      <td>0</td>\n",
       "      <td>0</td>\n",
       "      <td>0</td>\n",
       "      <td>0</td>\n",
       "      <td>0</td>\n",
       "      <td>0</td>\n",
       "      <td>0</td>\n",
       "      <td>0</td>\n",
       "      <td>0</td>\n",
       "      <td>0</td>\n",
       "      <td>...</td>\n",
       "      <td>1</td>\n",
       "      <td>0</td>\n",
       "      <td>0</td>\n",
       "      <td>0</td>\n",
       "      <td>0</td>\n",
       "      <td>0</td>\n",
       "      <td>0</td>\n",
       "      <td>0</td>\n",
       "      <td>0</td>\n",
       "      <td>0</td>\n",
       "    </tr>\n",
       "    <tr>\n",
       "      <th>2</th>\n",
       "      <td>0</td>\n",
       "      <td>0</td>\n",
       "      <td>0</td>\n",
       "      <td>0</td>\n",
       "      <td>0</td>\n",
       "      <td>0</td>\n",
       "      <td>0</td>\n",
       "      <td>0</td>\n",
       "      <td>0</td>\n",
       "      <td>0</td>\n",
       "      <td>...</td>\n",
       "      <td>1</td>\n",
       "      <td>0</td>\n",
       "      <td>0</td>\n",
       "      <td>0</td>\n",
       "      <td>0</td>\n",
       "      <td>0</td>\n",
       "      <td>0</td>\n",
       "      <td>0</td>\n",
       "      <td>0</td>\n",
       "      <td>0</td>\n",
       "    </tr>\n",
       "  </tbody>\n",
       "</table>\n",
       "<p>3 rows × 25 columns</p>\n",
       "</div>"
      ],
      "text/plain": [
       "   Asia  Ate  Carabayllo  CercadoDeLima  CerroAzul  Chaclacayo  Chorrillos  \\\n",
       "0     0    0           0              0          0           0           0   \n",
       "1     0    0           0              0          0           0           0   \n",
       "2     0    0           0              0          0           0           0   \n",
       "\n",
       "   Cieneguilla  Comas  LaMolina  ...  OTROS  Pachacamac  Pucusana  \\\n",
       "0            0      0         0  ...      1           0         0   \n",
       "1            0      0         0  ...      1           0         0   \n",
       "2            0      0         0  ...      1           0         0   \n",
       "\n",
       "   PuebloLibre  SanBorja  SanIsidro  SanJuanDeLurigancho  SanMartinDePorres  \\\n",
       "0            0         0          0                    0                  0   \n",
       "1            0         0          0                    0                  0   \n",
       "2            0         0          0                    0                  0   \n",
       "\n",
       "   SanMiguel  SantiagoDeSurco  \n",
       "0          0                0  \n",
       "1          0                0  \n",
       "2          0                0  \n",
       "\n",
       "[3 rows x 25 columns]"
      ]
     },
     "execution_count": 50,
     "metadata": {},
     "output_type": "execute_result"
    }
   ],
   "source": [
    "dummies = pd.get_dummies(df3.Distrito)\n",
    "dummies.head(3)"
   ]
  },
  {
   "cell_type": "code",
   "execution_count": 51,
   "metadata": {},
   "outputs": [
    {
     "data": {
      "text/html": [
       "<div>\n",
       "<style scoped>\n",
       "    .dataframe tbody tr th:only-of-type {\n",
       "        vertical-align: middle;\n",
       "    }\n",
       "\n",
       "    .dataframe tbody tr th {\n",
       "        vertical-align: top;\n",
       "    }\n",
       "\n",
       "    .dataframe thead th {\n",
       "        text-align: right;\n",
       "    }\n",
       "</style>\n",
       "<table border=\"1\" class=\"dataframe\">\n",
       "  <thead>\n",
       "    <tr style=\"text-align: right;\">\n",
       "      <th></th>\n",
       "      <th>Callao</th>\n",
       "      <th>Ica</th>\n",
       "      <th>LaLibertad</th>\n",
       "      <th>Lambayeque</th>\n",
       "      <th>Lima</th>\n",
       "      <th>OTROS</th>\n",
       "      <th>Piura</th>\n",
       "    </tr>\n",
       "  </thead>\n",
       "  <tbody>\n",
       "    <tr>\n",
       "      <th>0</th>\n",
       "      <td>1</td>\n",
       "      <td>0</td>\n",
       "      <td>0</td>\n",
       "      <td>0</td>\n",
       "      <td>0</td>\n",
       "      <td>0</td>\n",
       "      <td>0</td>\n",
       "    </tr>\n",
       "    <tr>\n",
       "      <th>1</th>\n",
       "      <td>1</td>\n",
       "      <td>0</td>\n",
       "      <td>0</td>\n",
       "      <td>0</td>\n",
       "      <td>0</td>\n",
       "      <td>0</td>\n",
       "      <td>0</td>\n",
       "    </tr>\n",
       "    <tr>\n",
       "      <th>2</th>\n",
       "      <td>1</td>\n",
       "      <td>0</td>\n",
       "      <td>0</td>\n",
       "      <td>0</td>\n",
       "      <td>0</td>\n",
       "      <td>0</td>\n",
       "      <td>0</td>\n",
       "    </tr>\n",
       "  </tbody>\n",
       "</table>\n",
       "</div>"
      ],
      "text/plain": [
       "   Callao  Ica  LaLibertad  Lambayeque  Lima  OTROS  Piura\n",
       "0       1    0           0           0     0      0      0\n",
       "1       1    0           0           0     0      0      0\n",
       "2       1    0           0           0     0      0      0"
      ]
     },
     "execution_count": 51,
     "metadata": {},
     "output_type": "execute_result"
    }
   ],
   "source": [
    "dummies2= pd.get_dummies(df3.Provincia)\n",
    "dummies2.head(3)"
   ]
  },
  {
   "cell_type": "code",
   "execution_count": 52,
   "metadata": {},
   "outputs": [
    {
     "data": {
      "text/html": [
       "<div>\n",
       "<style scoped>\n",
       "    .dataframe tbody tr th:only-of-type {\n",
       "        vertical-align: middle;\n",
       "    }\n",
       "\n",
       "    .dataframe tbody tr th {\n",
       "        vertical-align: top;\n",
       "    }\n",
       "\n",
       "    .dataframe thead th {\n",
       "        text-align: right;\n",
       "    }\n",
       "</style>\n",
       "<table border=\"1\" class=\"dataframe\">\n",
       "  <thead>\n",
       "    <tr style=\"text-align: right;\">\n",
       "      <th></th>\n",
       "      <th>Antiguedad</th>\n",
       "      <th>NroBanios</th>\n",
       "      <th>Nro_pisos</th>\n",
       "      <th>Cocheras</th>\n",
       "      <th>Dormitorios</th>\n",
       "      <th>Estado de Inmueble</th>\n",
       "      <th>Luminosidad</th>\n",
       "      <th>Mascotas</th>\n",
       "      <th>Precio</th>\n",
       "      <th>Tipo</th>\n",
       "      <th>...</th>\n",
       "      <th>'Cerco Electrico'</th>\n",
       "      <th>'Parrilla'</th>\n",
       "      <th>'Aire acondicionado'</th>\n",
       "      <th>'Amoblado'</th>\n",
       "      <th>'Sauna'</th>\n",
       "      <th>'Calefaccion'</th>\n",
       "      <th>'Equipado'</th>\n",
       "      <th>'Terma'</th>\n",
       "      <th>'Portero electrico'</th>\n",
       "      <th>'Cocina con reposteros'</th>\n",
       "    </tr>\n",
       "  </thead>\n",
       "  <tbody>\n",
       "    <tr>\n",
       "      <th>0</th>\n",
       "      <td>4</td>\n",
       "      <td>3</td>\n",
       "      <td>2</td>\n",
       "      <td>2</td>\n",
       "      <td>5.0</td>\n",
       "      <td>4.0</td>\n",
       "      <td>Luminoso</td>\n",
       "      <td>1.0</td>\n",
       "      <td>12.138869</td>\n",
       "      <td>Casa</td>\n",
       "      <td>...</td>\n",
       "      <td>0.0</td>\n",
       "      <td>0.0</td>\n",
       "      <td>0.0</td>\n",
       "      <td>0.0</td>\n",
       "      <td>0.0</td>\n",
       "      <td>0.0</td>\n",
       "      <td>0.0</td>\n",
       "      <td>1.0</td>\n",
       "      <td>0.0</td>\n",
       "      <td>1.0</td>\n",
       "    </tr>\n",
       "    <tr>\n",
       "      <th>1</th>\n",
       "      <td>3</td>\n",
       "      <td>3</td>\n",
       "      <td>3</td>\n",
       "      <td>1</td>\n",
       "      <td>5.0</td>\n",
       "      <td>4.0</td>\n",
       "      <td>Luminoso</td>\n",
       "      <td>1.0</td>\n",
       "      <td>12.628070</td>\n",
       "      <td>Casa</td>\n",
       "      <td>...</td>\n",
       "      <td>0.0</td>\n",
       "      <td>0.0</td>\n",
       "      <td>0.0</td>\n",
       "      <td>0.0</td>\n",
       "      <td>0.0</td>\n",
       "      <td>0.0</td>\n",
       "      <td>0.0</td>\n",
       "      <td>0.0</td>\n",
       "      <td>0.0</td>\n",
       "      <td>1.0</td>\n",
       "    </tr>\n",
       "  </tbody>\n",
       "</table>\n",
       "<p>2 rows × 83 columns</p>\n",
       "</div>"
      ],
      "text/plain": [
       "   Antiguedad  NroBanios  Nro_pisos  Cocheras  Dormitorios  \\\n",
       "0           4          3          2         2          5.0   \n",
       "1           3          3          3         1          5.0   \n",
       "\n",
       "   Estado de Inmueble Luminosidad  Mascotas     Precio  Tipo  ...  \\\n",
       "0                 4.0    Luminoso       1.0  12.138869  Casa  ...   \n",
       "1                 4.0    Luminoso       1.0  12.628070  Casa  ...   \n",
       "\n",
       "  'Cerco Electrico'  'Parrilla'  'Aire acondicionado'  'Amoblado'  'Sauna'  \\\n",
       "0               0.0         0.0                   0.0         0.0      0.0   \n",
       "1               0.0         0.0                   0.0         0.0      0.0   \n",
       "\n",
       "   'Calefaccion'  'Equipado'  'Terma'  'Portero electrico'  \\\n",
       "0            0.0         0.0      1.0                  0.0   \n",
       "1            0.0         0.0      0.0                  0.0   \n",
       "\n",
       "   'Cocina con reposteros'  \n",
       "0                      1.0  \n",
       "1                      1.0  \n",
       "\n",
       "[2 rows x 83 columns]"
      ]
     },
     "execution_count": 52,
     "metadata": {},
     "output_type": "execute_result"
    }
   ],
   "source": [
    "df4 = df3.drop(['Distrito','Provincia'],axis='columns')\n",
    "df4.head(2)"
   ]
  },
  {
   "cell_type": "code",
   "execution_count": 53,
   "metadata": {},
   "outputs": [],
   "source": [
    "df4 = pd.get_dummies(df4,drop_first=1)"
   ]
  },
  {
   "cell_type": "code",
   "execution_count": 54,
   "metadata": {},
   "outputs": [
    {
     "data": {
      "text/html": [
       "<div>\n",
       "<style scoped>\n",
       "    .dataframe tbody tr th:only-of-type {\n",
       "        vertical-align: middle;\n",
       "    }\n",
       "\n",
       "    .dataframe tbody tr th {\n",
       "        vertical-align: top;\n",
       "    }\n",
       "\n",
       "    .dataframe thead th {\n",
       "        text-align: right;\n",
       "    }\n",
       "</style>\n",
       "<table border=\"1\" class=\"dataframe\">\n",
       "  <thead>\n",
       "    <tr style=\"text-align: right;\">\n",
       "      <th></th>\n",
       "      <th>Antiguedad</th>\n",
       "      <th>NroBanios</th>\n",
       "      <th>Nro_pisos</th>\n",
       "      <th>Cocheras</th>\n",
       "      <th>Dormitorios</th>\n",
       "      <th>Estado de Inmueble</th>\n",
       "      <th>Mascotas</th>\n",
       "      <th>Precio</th>\n",
       "      <th>Uso_comercial</th>\n",
       "      <th>Uso_profesional</th>\n",
       "      <th>...</th>\n",
       "      <th>Miraflores</th>\n",
       "      <th>Pachacamac</th>\n",
       "      <th>Pucusana</th>\n",
       "      <th>PuebloLibre</th>\n",
       "      <th>SanBorja</th>\n",
       "      <th>SanIsidro</th>\n",
       "      <th>SanJuanDeLurigancho</th>\n",
       "      <th>SanMartinDePorres</th>\n",
       "      <th>SanMiguel</th>\n",
       "      <th>SantiagoDeSurco</th>\n",
       "    </tr>\n",
       "  </thead>\n",
       "  <tbody>\n",
       "    <tr>\n",
       "      <th>0</th>\n",
       "      <td>4</td>\n",
       "      <td>3</td>\n",
       "      <td>2</td>\n",
       "      <td>2</td>\n",
       "      <td>5.0</td>\n",
       "      <td>4.0</td>\n",
       "      <td>1.0</td>\n",
       "      <td>12.138869</td>\n",
       "      <td>1</td>\n",
       "      <td>1</td>\n",
       "      <td>...</td>\n",
       "      <td>0</td>\n",
       "      <td>0</td>\n",
       "      <td>0</td>\n",
       "      <td>0</td>\n",
       "      <td>0</td>\n",
       "      <td>0</td>\n",
       "      <td>0</td>\n",
       "      <td>0</td>\n",
       "      <td>0</td>\n",
       "      <td>0</td>\n",
       "    </tr>\n",
       "    <tr>\n",
       "      <th>1</th>\n",
       "      <td>3</td>\n",
       "      <td>3</td>\n",
       "      <td>3</td>\n",
       "      <td>1</td>\n",
       "      <td>5.0</td>\n",
       "      <td>4.0</td>\n",
       "      <td>1.0</td>\n",
       "      <td>12.628070</td>\n",
       "      <td>9</td>\n",
       "      <td>9</td>\n",
       "      <td>...</td>\n",
       "      <td>0</td>\n",
       "      <td>0</td>\n",
       "      <td>0</td>\n",
       "      <td>0</td>\n",
       "      <td>0</td>\n",
       "      <td>0</td>\n",
       "      <td>0</td>\n",
       "      <td>0</td>\n",
       "      <td>0</td>\n",
       "      <td>0</td>\n",
       "    </tr>\n",
       "    <tr>\n",
       "      <th>2</th>\n",
       "      <td>3</td>\n",
       "      <td>4</td>\n",
       "      <td>2</td>\n",
       "      <td>2</td>\n",
       "      <td>4.0</td>\n",
       "      <td>9.0</td>\n",
       "      <td>1.0</td>\n",
       "      <td>12.206078</td>\n",
       "      <td>9</td>\n",
       "      <td>9</td>\n",
       "      <td>...</td>\n",
       "      <td>0</td>\n",
       "      <td>0</td>\n",
       "      <td>0</td>\n",
       "      <td>0</td>\n",
       "      <td>0</td>\n",
       "      <td>0</td>\n",
       "      <td>0</td>\n",
       "      <td>0</td>\n",
       "      <td>0</td>\n",
       "      <td>0</td>\n",
       "    </tr>\n",
       "    <tr>\n",
       "      <th>3</th>\n",
       "      <td>4</td>\n",
       "      <td>2</td>\n",
       "      <td>2</td>\n",
       "      <td>2</td>\n",
       "      <td>4.0</td>\n",
       "      <td>0.0</td>\n",
       "      <td>1.0</td>\n",
       "      <td>12.180760</td>\n",
       "      <td>0</td>\n",
       "      <td>0</td>\n",
       "      <td>...</td>\n",
       "      <td>0</td>\n",
       "      <td>0</td>\n",
       "      <td>0</td>\n",
       "      <td>0</td>\n",
       "      <td>0</td>\n",
       "      <td>0</td>\n",
       "      <td>0</td>\n",
       "      <td>0</td>\n",
       "      <td>0</td>\n",
       "      <td>0</td>\n",
       "    </tr>\n",
       "    <tr>\n",
       "      <th>4</th>\n",
       "      <td>3</td>\n",
       "      <td>3</td>\n",
       "      <td>2</td>\n",
       "      <td>2</td>\n",
       "      <td>4.0</td>\n",
       "      <td>9.0</td>\n",
       "      <td>1.0</td>\n",
       "      <td>12.206078</td>\n",
       "      <td>9</td>\n",
       "      <td>9</td>\n",
       "      <td>...</td>\n",
       "      <td>0</td>\n",
       "      <td>0</td>\n",
       "      <td>0</td>\n",
       "      <td>0</td>\n",
       "      <td>0</td>\n",
       "      <td>0</td>\n",
       "      <td>0</td>\n",
       "      <td>0</td>\n",
       "      <td>0</td>\n",
       "      <td>0</td>\n",
       "    </tr>\n",
       "  </tbody>\n",
       "</table>\n",
       "<p>5 rows × 114 columns</p>\n",
       "</div>"
      ],
      "text/plain": [
       "   Antiguedad  NroBanios  Nro_pisos  Cocheras  Dormitorios  \\\n",
       "0           4          3          2         2          5.0   \n",
       "1           3          3          3         1          5.0   \n",
       "2           3          4          2         2          4.0   \n",
       "3           4          2          2         2          4.0   \n",
       "4           3          3          2         2          4.0   \n",
       "\n",
       "   Estado de Inmueble  Mascotas     Precio  Uso_comercial  Uso_profesional  \\\n",
       "0                 4.0       1.0  12.138869              1                1   \n",
       "1                 4.0       1.0  12.628070              9                9   \n",
       "2                 9.0       1.0  12.206078              9                9   \n",
       "3                 0.0       1.0  12.180760              0                0   \n",
       "4                 9.0       1.0  12.206078              9                9   \n",
       "\n",
       "   ...  Miraflores  Pachacamac  Pucusana  PuebloLibre  SanBorja  SanIsidro  \\\n",
       "0  ...           0           0         0            0         0          0   \n",
       "1  ...           0           0         0            0         0          0   \n",
       "2  ...           0           0         0            0         0          0   \n",
       "3  ...           0           0         0            0         0          0   \n",
       "4  ...           0           0         0            0         0          0   \n",
       "\n",
       "   SanJuanDeLurigancho  SanMartinDePorres  SanMiguel  SantiagoDeSurco  \n",
       "0                    0                  0          0                0  \n",
       "1                    0                  0          0                0  \n",
       "2                    0                  0          0                0  \n",
       "3                    0                  0          0                0  \n",
       "4                    0                  0          0                0  \n",
       "\n",
       "[5 rows x 114 columns]"
      ]
     },
     "execution_count": 54,
     "metadata": {},
     "output_type": "execute_result"
    }
   ],
   "source": [
    "df5 = pd.concat([df4,dummies.drop('OTROS',axis='columns')],axis='columns')\n",
    "df5.head()"
   ]
  },
  {
   "cell_type": "code",
   "execution_count": 55,
   "metadata": {},
   "outputs": [
    {
     "data": {
      "text/html": [
       "<div>\n",
       "<style scoped>\n",
       "    .dataframe tbody tr th:only-of-type {\n",
       "        vertical-align: middle;\n",
       "    }\n",
       "\n",
       "    .dataframe tbody tr th {\n",
       "        vertical-align: top;\n",
       "    }\n",
       "\n",
       "    .dataframe thead th {\n",
       "        text-align: right;\n",
       "    }\n",
       "</style>\n",
       "<table border=\"1\" class=\"dataframe\">\n",
       "  <thead>\n",
       "    <tr style=\"text-align: right;\">\n",
       "      <th></th>\n",
       "      <th>Antiguedad</th>\n",
       "      <th>NroBanios</th>\n",
       "      <th>Nro_pisos</th>\n",
       "      <th>Cocheras</th>\n",
       "      <th>Dormitorios</th>\n",
       "      <th>Estado de Inmueble</th>\n",
       "      <th>Mascotas</th>\n",
       "      <th>Precio</th>\n",
       "      <th>Uso_comercial</th>\n",
       "      <th>Uso_profesional</th>\n",
       "      <th>...</th>\n",
       "      <th>SanJuanDeLurigancho</th>\n",
       "      <th>SanMartinDePorres</th>\n",
       "      <th>SanMiguel</th>\n",
       "      <th>SantiagoDeSurco</th>\n",
       "      <th>Callao</th>\n",
       "      <th>Ica</th>\n",
       "      <th>LaLibertad</th>\n",
       "      <th>Lambayeque</th>\n",
       "      <th>Lima</th>\n",
       "      <th>Piura</th>\n",
       "    </tr>\n",
       "  </thead>\n",
       "  <tbody>\n",
       "    <tr>\n",
       "      <th>0</th>\n",
       "      <td>4</td>\n",
       "      <td>3</td>\n",
       "      <td>2</td>\n",
       "      <td>2</td>\n",
       "      <td>5.0</td>\n",
       "      <td>4.0</td>\n",
       "      <td>1.0</td>\n",
       "      <td>12.138869</td>\n",
       "      <td>1</td>\n",
       "      <td>1</td>\n",
       "      <td>...</td>\n",
       "      <td>0</td>\n",
       "      <td>0</td>\n",
       "      <td>0</td>\n",
       "      <td>0</td>\n",
       "      <td>1</td>\n",
       "      <td>0</td>\n",
       "      <td>0</td>\n",
       "      <td>0</td>\n",
       "      <td>0</td>\n",
       "      <td>0</td>\n",
       "    </tr>\n",
       "    <tr>\n",
       "      <th>1</th>\n",
       "      <td>3</td>\n",
       "      <td>3</td>\n",
       "      <td>3</td>\n",
       "      <td>1</td>\n",
       "      <td>5.0</td>\n",
       "      <td>4.0</td>\n",
       "      <td>1.0</td>\n",
       "      <td>12.628070</td>\n",
       "      <td>9</td>\n",
       "      <td>9</td>\n",
       "      <td>...</td>\n",
       "      <td>0</td>\n",
       "      <td>0</td>\n",
       "      <td>0</td>\n",
       "      <td>0</td>\n",
       "      <td>1</td>\n",
       "      <td>0</td>\n",
       "      <td>0</td>\n",
       "      <td>0</td>\n",
       "      <td>0</td>\n",
       "      <td>0</td>\n",
       "    </tr>\n",
       "    <tr>\n",
       "      <th>2</th>\n",
       "      <td>3</td>\n",
       "      <td>4</td>\n",
       "      <td>2</td>\n",
       "      <td>2</td>\n",
       "      <td>4.0</td>\n",
       "      <td>9.0</td>\n",
       "      <td>1.0</td>\n",
       "      <td>12.206078</td>\n",
       "      <td>9</td>\n",
       "      <td>9</td>\n",
       "      <td>...</td>\n",
       "      <td>0</td>\n",
       "      <td>0</td>\n",
       "      <td>0</td>\n",
       "      <td>0</td>\n",
       "      <td>1</td>\n",
       "      <td>0</td>\n",
       "      <td>0</td>\n",
       "      <td>0</td>\n",
       "      <td>0</td>\n",
       "      <td>0</td>\n",
       "    </tr>\n",
       "    <tr>\n",
       "      <th>3</th>\n",
       "      <td>4</td>\n",
       "      <td>2</td>\n",
       "      <td>2</td>\n",
       "      <td>2</td>\n",
       "      <td>4.0</td>\n",
       "      <td>0.0</td>\n",
       "      <td>1.0</td>\n",
       "      <td>12.180760</td>\n",
       "      <td>0</td>\n",
       "      <td>0</td>\n",
       "      <td>...</td>\n",
       "      <td>0</td>\n",
       "      <td>0</td>\n",
       "      <td>0</td>\n",
       "      <td>0</td>\n",
       "      <td>1</td>\n",
       "      <td>0</td>\n",
       "      <td>0</td>\n",
       "      <td>0</td>\n",
       "      <td>0</td>\n",
       "      <td>0</td>\n",
       "    </tr>\n",
       "    <tr>\n",
       "      <th>4</th>\n",
       "      <td>3</td>\n",
       "      <td>3</td>\n",
       "      <td>2</td>\n",
       "      <td>2</td>\n",
       "      <td>4.0</td>\n",
       "      <td>9.0</td>\n",
       "      <td>1.0</td>\n",
       "      <td>12.206078</td>\n",
       "      <td>9</td>\n",
       "      <td>9</td>\n",
       "      <td>...</td>\n",
       "      <td>0</td>\n",
       "      <td>0</td>\n",
       "      <td>0</td>\n",
       "      <td>0</td>\n",
       "      <td>1</td>\n",
       "      <td>0</td>\n",
       "      <td>0</td>\n",
       "      <td>0</td>\n",
       "      <td>0</td>\n",
       "      <td>0</td>\n",
       "    </tr>\n",
       "  </tbody>\n",
       "</table>\n",
       "<p>5 rows × 120 columns</p>\n",
       "</div>"
      ],
      "text/plain": [
       "   Antiguedad  NroBanios  Nro_pisos  Cocheras  Dormitorios  \\\n",
       "0           4          3          2         2          5.0   \n",
       "1           3          3          3         1          5.0   \n",
       "2           3          4          2         2          4.0   \n",
       "3           4          2          2         2          4.0   \n",
       "4           3          3          2         2          4.0   \n",
       "\n",
       "   Estado de Inmueble  Mascotas     Precio  Uso_comercial  Uso_profesional  \\\n",
       "0                 4.0       1.0  12.138869              1                1   \n",
       "1                 4.0       1.0  12.628070              9                9   \n",
       "2                 9.0       1.0  12.206078              9                9   \n",
       "3                 0.0       1.0  12.180760              0                0   \n",
       "4                 9.0       1.0  12.206078              9                9   \n",
       "\n",
       "   ...  SanJuanDeLurigancho  SanMartinDePorres  SanMiguel  SantiagoDeSurco  \\\n",
       "0  ...                    0                  0          0                0   \n",
       "1  ...                    0                  0          0                0   \n",
       "2  ...                    0                  0          0                0   \n",
       "3  ...                    0                  0          0                0   \n",
       "4  ...                    0                  0          0                0   \n",
       "\n",
       "   Callao  Ica  LaLibertad  Lambayeque  Lima  Piura  \n",
       "0       1    0           0           0     0      0  \n",
       "1       1    0           0           0     0      0  \n",
       "2       1    0           0           0     0      0  \n",
       "3       1    0           0           0     0      0  \n",
       "4       1    0           0           0     0      0  \n",
       "\n",
       "[5 rows x 120 columns]"
      ]
     },
     "execution_count": 55,
     "metadata": {},
     "output_type": "execute_result"
    }
   ],
   "source": [
    "df6 = pd.concat([df5,dummies2.drop('OTROS',axis='columns')],axis='columns')\n",
    "df6.head()"
   ]
  },
  {
   "cell_type": "code",
   "execution_count": 56,
   "metadata": {},
   "outputs": [],
   "source": [
    "### MODELO \n",
    "y= df6[\"Precio\"]\n",
    "X = df6.drop([\"Precio\"],axis=1)"
   ]
  },
  {
   "cell_type": "code",
   "execution_count": 60,
   "metadata": {},
   "outputs": [],
   "source": [
    "## Dividir la data en train y test\n",
    "\n",
    "from sklearn.model_selection import train_test_split\n",
    "X_train, X_test, y_train, y_test = train_test_split(X,y,test_size=0.2,random_state=10)"
   ]
  },
  {
   "cell_type": "code",
   "execution_count": 61,
   "metadata": {},
   "outputs": [
    {
     "data": {
      "text/plain": [
       "0.8140273333991718"
      ]
     },
     "execution_count": 61,
     "metadata": {},
     "output_type": "execute_result"
    }
   ],
   "source": [
    "from sklearn.linear_model import LinearRegression\n",
    "lr_clf = LinearRegression()\n",
    "lr_clf.fit(X_train,y_train)\n",
    "lr_clf.score(X_test,y_test)"
   ]
  },
  {
   "cell_type": "code",
   "execution_count": 62,
   "metadata": {},
   "outputs": [
    {
     "data": {
      "text/plain": [
       "array([0.82152056, 0.79466971, 0.80729871, 0.81073002, 0.82282779])"
      ]
     },
     "execution_count": 62,
     "metadata": {},
     "output_type": "execute_result"
    }
   ],
   "source": [
    "from sklearn.model_selection import ShuffleSplit\n",
    "from sklearn.model_selection import cross_val_score\n",
    "\n",
    "cv = ShuffleSplit(n_splits=5, test_size=0.2, random_state=0)\n",
    "\n",
    "cross_val_score(LinearRegression(), X, y, cv=cv)"
   ]
  },
  {
   "cell_type": "code",
   "execution_count": 63,
   "metadata": {},
   "outputs": [
    {
     "data": {
      "text/html": [
       "<div>\n",
       "<style scoped>\n",
       "    .dataframe tbody tr th:only-of-type {\n",
       "        vertical-align: middle;\n",
       "    }\n",
       "\n",
       "    .dataframe tbody tr th {\n",
       "        vertical-align: top;\n",
       "    }\n",
       "\n",
       "    .dataframe thead th {\n",
       "        text-align: right;\n",
       "    }\n",
       "</style>\n",
       "<table border=\"1\" class=\"dataframe\">\n",
       "  <thead>\n",
       "    <tr style=\"text-align: right;\">\n",
       "      <th></th>\n",
       "      <th>model</th>\n",
       "      <th>best_score</th>\n",
       "      <th>best_params</th>\n",
       "    </tr>\n",
       "  </thead>\n",
       "  <tbody>\n",
       "    <tr>\n",
       "      <th>0</th>\n",
       "      <td>linear_regression</td>\n",
       "      <td>0.811414</td>\n",
       "      <td>{'normalize': True}</td>\n",
       "    </tr>\n",
       "    <tr>\n",
       "      <th>1</th>\n",
       "      <td>lasso</td>\n",
       "      <td>0.084333</td>\n",
       "      <td>{'alpha': 1, 'selection': 'cyclic'}</td>\n",
       "    </tr>\n",
       "    <tr>\n",
       "      <th>2</th>\n",
       "      <td>decision_tree</td>\n",
       "      <td>0.701189</td>\n",
       "      <td>{'criterion': 'mse', 'splitter': 'best'}</td>\n",
       "    </tr>\n",
       "  </tbody>\n",
       "</table>\n",
       "</div>"
      ],
      "text/plain": [
       "               model  best_score                               best_params\n",
       "0  linear_regression    0.811414                       {'normalize': True}\n",
       "1              lasso    0.084333       {'alpha': 1, 'selection': 'cyclic'}\n",
       "2      decision_tree    0.701189  {'criterion': 'mse', 'splitter': 'best'}"
      ]
     },
     "execution_count": 63,
     "metadata": {},
     "output_type": "execute_result"
    }
   ],
   "source": [
    "from sklearn.model_selection import GridSearchCV\n",
    "\n",
    "from sklearn.linear_model import Lasso\n",
    "from sklearn.tree import DecisionTreeRegressor\n",
    "\n",
    "def find_best_model_using_gridsearchcv(X,y):\n",
    "    algos = {\n",
    "        'linear_regression' : {\n",
    "            'model': LinearRegression(),\n",
    "            'params': {\n",
    "                'normalize': [True, False]\n",
    "            }\n",
    "        },\n",
    "        'lasso': {\n",
    "            'model': Lasso(),\n",
    "            'params': {\n",
    "                'alpha': [1,2],\n",
    "                'selection': ['random', 'cyclic']\n",
    "            }\n",
    "        },\n",
    "        'decision_tree': {\n",
    "            'model': DecisionTreeRegressor(),\n",
    "            'params': {\n",
    "                'criterion' : ['mse','friedman_mse'],\n",
    "                'splitter': ['best','random']\n",
    "            }\n",
    "        }\n",
    "    }\n",
    "    scores = []\n",
    "    cv = ShuffleSplit(n_splits=5, test_size=0.2, random_state=0)\n",
    "    for algo_name, config in algos.items():\n",
    "        gs =  GridSearchCV(config['model'], config['params'], cv=cv, return_train_score=False)\n",
    "        gs.fit(X,y)\n",
    "        scores.append({\n",
    "            'model': algo_name,\n",
    "            'best_score': gs.best_score_,\n",
    "            'best_params': gs.best_params_\n",
    "        })\n",
    "\n",
    "    return pd.DataFrame(scores,columns=['model','best_score','best_params'])\n",
    "\n",
    "find_best_model_using_gridsearchcv(X,y)"
   ]
  },
  {
   "cell_type": "code",
   "execution_count": 87,
   "metadata": {},
   "outputs": [],
   "source": [
    "def predict_price(Distrito,NroBanios,Dormitorios):    \n",
    "    loc_index = np.where(X.columns==Distrito)[0][0]\n",
    "\n",
    "    x = np.zeros(len(X.columns))\n",
    "    x[0] = NroBanios \n",
    "    x[1] = Dormitorios\n",
    "    if loc_index >= 0:\n",
    "        x[loc_index] = 1\n",
    "\n",
    "    return lr_clf.predict([x])[0]"
   ]
  },
  {
   "cell_type": "code",
   "execution_count": 101,
   "metadata": {},
   "outputs": [
    {
     "data": {
      "text/plain": [
       "7.9429710441355565"
      ]
     },
     "execution_count": 101,
     "metadata": {},
     "output_type": "execute_result"
    }
   ],
   "source": [
    "predict_price('Lima', 2,2)"
   ]
  },
  {
   "cell_type": "code",
   "execution_count": 93,
   "metadata": {},
   "outputs": [
    {
     "data": {
      "text/plain": [
       "7.972406445860199"
      ]
     },
     "execution_count": 93,
     "metadata": {},
     "output_type": "execute_result"
    }
   ],
   "source": [
    "predict_price('Callao',2,2)"
   ]
  },
  {
   "cell_type": "code",
   "execution_count": 67,
   "metadata": {},
   "outputs": [],
   "source": [
    "import pickle\n",
    "#with open('home_peru_prices_model.pickle','wb') as f:\n",
    "#    pickle.dump(lr_clf,f)"
   ]
  },
  {
   "cell_type": "code",
   "execution_count": 68,
   "metadata": {},
   "outputs": [],
   "source": [
    "import json\n",
    "#columns = {\n",
    "#    'data_columns' : [col.lower() for col in X.columns]\n",
    "#}\n",
    "#with open(\"columns.json\",\"w\") as f:\n",
    "#    f.write(json.dumps(columns))"
   ]
  }
 ],
 "metadata": {
  "interpreter": {
   "hash": "4ce0e62306dd6a5716965d4519ada776f947e6dfc145b604b11307c10277ef29"
  },
  "kernelspec": {
   "display_name": "Python 3.9.5 64-bit",
   "language": "python",
   "name": "python3"
  },
  "language_info": {
   "codemirror_mode": {
    "name": "ipython",
    "version": 3
   },
   "file_extension": ".py",
   "mimetype": "text/x-python",
   "name": "python",
   "nbconvert_exporter": "python",
   "pygments_lexer": "ipython3",
   "version": "3.9.5"
  },
  "orig_nbformat": 4
 },
 "nbformat": 4,
 "nbformat_minor": 2
}
